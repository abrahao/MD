{
 "cells": [
  {
   "cell_type": "code",
   "execution_count": 1,
   "id": "3d807d32-f73c-4fdf-a925-293aaf7d1a85",
   "metadata": {},
   "outputs": [],
   "source": [
    "import pandas as pd  # Manipulação de dados"
   ]
  },
  {
   "cell_type": "code",
   "execution_count": 3,
   "id": "bdb225b4-f19b-4644-b9cb-8ec694bcdf0a",
   "metadata": {},
   "outputs": [],
   "source": [
    "data = pd.read_csv('evasao_escolar_ensino_medio.csv')"
   ]
  },
  {
   "cell_type": "code",
   "execution_count": 4,
   "id": "470eeee2-1643-46c9-9b29-655dbf6978ea",
   "metadata": {},
   "outputs": [
    {
     "name": "stdout",
     "output_type": "stream",
     "text": [
      "<class 'pandas.core.frame.DataFrame'>\n",
      "RangeIndex: 100000 entries, 0 to 99999\n",
      "Data columns (total 9 columns):\n",
      " #   Column                                        Non-Null Count   Dtype  \n",
      "---  ------                                        --------------   -----  \n",
      " 0   Idade                                         100000 non-null  int64  \n",
      " 1   Gênero                                        100000 non-null  object \n",
      " 2   Série                                         100000 non-null  int64  \n",
      " 3   Média de Notas                                100000 non-null  float64\n",
      " 4   Frequência                                    100000 non-null  object \n",
      " 5   Participação em Atividades Extracurriculares  100000 non-null  object \n",
      " 6   Motivo da Evasão                              100000 non-null  object \n",
      " 7   Renda Familiar                                100000 non-null  int64  \n",
      " 8   Localização                                   100000 non-null  object \n",
      "dtypes: float64(1), int64(3), object(5)\n",
      "memory usage: 6.9+ MB\n"
     ]
    }
   ],
   "source": [
    "data.info()"
   ]
  },
  {
   "cell_type": "code",
   "execution_count": 5,
   "id": "3e93124a-80fd-4555-9c3c-820ea734b221",
   "metadata": {},
   "outputs": [
    {
     "name": "stdout",
     "output_type": "stream",
     "text": [
      "Motivo da Evasão\n",
      "0                          60054\n",
      "Falta de Apoio Escolar      5791\n",
      "Problemas de Saúde          5751\n",
      "Problemas Familiares        5730\n",
      "Falta de Apoio Familiar     5724\n",
      "Problemas Financeiros       5707\n",
      "Falta de Interesse          5648\n",
      "Outros                      5595\n",
      "Name: count, dtype: int64\n"
     ]
    }
   ],
   "source": [
    "motivo_evasao = data['Motivo da Evasão'].value_counts()\n",
    "print(motivo_evasao)"
   ]
  },
  {
   "cell_type": "code",
   "execution_count": 6,
   "id": "5be5dea1-54b7-4828-8303-74ada3acf048",
   "metadata": {},
   "outputs": [
    {
     "data": {
      "text/html": [
       "<div>\n",
       "<style scoped>\n",
       "    .dataframe tbody tr th:only-of-type {\n",
       "        vertical-align: middle;\n",
       "    }\n",
       "\n",
       "    .dataframe tbody tr th {\n",
       "        vertical-align: top;\n",
       "    }\n",
       "\n",
       "    .dataframe thead th {\n",
       "        text-align: right;\n",
       "    }\n",
       "</style>\n",
       "<table border=\"1\" class=\"dataframe\">\n",
       "  <thead>\n",
       "    <tr style=\"text-align: right;\">\n",
       "      <th></th>\n",
       "      <th>Idade</th>\n",
       "      <th>Gênero</th>\n",
       "      <th>Série</th>\n",
       "      <th>Média de Notas</th>\n",
       "      <th>Frequência</th>\n",
       "      <th>Participação em Atividades Extracurriculares</th>\n",
       "      <th>Motivo da Evasão</th>\n",
       "      <th>Renda Familiar</th>\n",
       "      <th>Localização</th>\n",
       "    </tr>\n",
       "  </thead>\n",
       "  <tbody>\n",
       "    <tr>\n",
       "      <th>0</th>\n",
       "      <td>17</td>\n",
       "      <td>Feminino</td>\n",
       "      <td>1</td>\n",
       "      <td>9.3</td>\n",
       "      <td>64.2%</td>\n",
       "      <td>Não</td>\n",
       "      <td>Falta de Apoio Familiar</td>\n",
       "      <td>3137</td>\n",
       "      <td>Urbana</td>\n",
       "    </tr>\n",
       "    <tr>\n",
       "      <th>1</th>\n",
       "      <td>18</td>\n",
       "      <td>Feminino</td>\n",
       "      <td>2</td>\n",
       "      <td>6.4</td>\n",
       "      <td>79.0%</td>\n",
       "      <td>Não</td>\n",
       "      <td>0</td>\n",
       "      <td>2958</td>\n",
       "      <td>Rural</td>\n",
       "    </tr>\n",
       "    <tr>\n",
       "      <th>2</th>\n",
       "      <td>16</td>\n",
       "      <td>Masculino</td>\n",
       "      <td>3</td>\n",
       "      <td>8.0</td>\n",
       "      <td>70.9%</td>\n",
       "      <td>Sim</td>\n",
       "      <td>0</td>\n",
       "      <td>1777</td>\n",
       "      <td>Rural</td>\n",
       "    </tr>\n",
       "    <tr>\n",
       "      <th>3</th>\n",
       "      <td>16</td>\n",
       "      <td>Feminino</td>\n",
       "      <td>3</td>\n",
       "      <td>6.0</td>\n",
       "      <td>89.0%</td>\n",
       "      <td>Não</td>\n",
       "      <td>Falta de Apoio Escolar</td>\n",
       "      <td>4636</td>\n",
       "      <td>Rural</td>\n",
       "    </tr>\n",
       "    <tr>\n",
       "      <th>4</th>\n",
       "      <td>19</td>\n",
       "      <td>Masculino</td>\n",
       "      <td>1</td>\n",
       "      <td>7.1</td>\n",
       "      <td>60.8%</td>\n",
       "      <td>Sim</td>\n",
       "      <td>0</td>\n",
       "      <td>2045</td>\n",
       "      <td>Rural</td>\n",
       "    </tr>\n",
       "  </tbody>\n",
       "</table>\n",
       "</div>"
      ],
      "text/plain": [
       "   Idade     Gênero  Série  Média de Notas Frequência  \\\n",
       "0     17   Feminino      1             9.3      64.2%   \n",
       "1     18   Feminino      2             6.4      79.0%   \n",
       "2     16  Masculino      3             8.0      70.9%   \n",
       "3     16   Feminino      3             6.0      89.0%   \n",
       "4     19  Masculino      1             7.1      60.8%   \n",
       "\n",
       "  Participação em Atividades Extracurriculares         Motivo da Evasão  \\\n",
       "0                                          Não  Falta de Apoio Familiar   \n",
       "1                                          Não                        0   \n",
       "2                                          Sim                        0   \n",
       "3                                          Não   Falta de Apoio Escolar   \n",
       "4                                          Sim                        0   \n",
       "\n",
       "   Renda Familiar Localização  \n",
       "0            3137      Urbana  \n",
       "1            2958       Rural  \n",
       "2            1777       Rural  \n",
       "3            4636       Rural  \n",
       "4            2045       Rural  "
      ]
     },
     "execution_count": 6,
     "metadata": {},
     "output_type": "execute_result"
    }
   ],
   "source": [
    "data.head()"
   ]
  },
  {
   "cell_type": "code",
   "execution_count": 7,
   "id": "00edde11-2e88-4bb6-adb0-4398cf36ccb0",
   "metadata": {},
   "outputs": [
    {
     "name": "stdout",
     "output_type": "stream",
     "text": [
      "Total de Evadidos: 39946\n",
      "Total de Não Evadidos: 60054\n"
     ]
    }
   ],
   "source": [
    "# Contar o número de evadidos (Motivo da Evasão diferente de '0')\n",
    "evadidos = data[data['Motivo da Evasão'] != '0'].shape[0]\n",
    "\n",
    "# Contar o número de não evadidos (Motivo da Evasão igual a '0')\n",
    "nao_evadidos = data[data['Motivo da Evasão'] == '0'].shape[0]\n",
    "\n",
    "print(f'Total de Evadidos: {evadidos}')\n",
    "print(f'Total de Não Evadidos: {nao_evadidos}')\n"
   ]
  },
  {
   "cell_type": "code",
   "execution_count": 8,
   "id": "2df5f724-493d-4cb0-b703-05aa59feccc5",
   "metadata": {},
   "outputs": [
    {
     "name": "stdout",
     "output_type": "stream",
     "text": [
      "Gênero\n",
      "Feminino     24935\n",
      "Masculino    15011\n",
      "Name: count, dtype: int64\n"
     ]
    }
   ],
   "source": [
    "# Filtrar as linhas onde o motivo da evasão é diferente de '0' (ou seja, os evadidos)\n",
    "evadidos = data[data['Motivo da Evasão'] != '0']\n",
    "\n",
    "# Contar o número de evadidos por gênero\n",
    "contagem_por_genero = evadidos['Gênero'].value_counts()\n",
    "\n",
    "print(contagem_por_genero)\n"
   ]
  },
  {
   "cell_type": "code",
   "execution_count": 9,
   "id": "96794667-6d96-4369-a50a-a1b02d79054c",
   "metadata": {},
   "outputs": [
    {
     "name": "stdout",
     "output_type": "stream",
     "text": [
      "(100000, 9)\n"
     ]
    }
   ],
   "source": [
    "print(data.shape)\n"
   ]
  },
  {
   "cell_type": "code",
   "execution_count": 9,
   "id": "0df5c81b-6eac-4b93-adf8-73fa283c78c5",
   "metadata": {},
   "outputs": [
    {
     "name": "stdout",
     "output_type": "stream",
     "text": [
      "(64178, 9)\n"
     ]
    }
   ],
   "source": [
    "print(data[data['Motivo da Evasão'] == '0'].shape)"
   ]
  },
  {
   "cell_type": "code",
   "execution_count": 10,
   "id": "9badb9ea-2e14-4c27-be59-dc2bbc4bb2f8",
   "metadata": {},
   "outputs": [
    {
     "name": "stdout",
     "output_type": "stream",
     "text": [
      "(35822, 9)\n"
     ]
    }
   ],
   "source": [
    "print(data[data['Motivo da Evasão'] != '0'].shape)\n"
   ]
  },
  {
   "cell_type": "code",
   "execution_count": null,
   "id": "8fb043ac-47ff-4f48-a935-f80884ea056e",
   "metadata": {},
   "outputs": [],
   "source": [
    "        "
   ]
  },
  {
   "cell_type": "code",
   "execution_count": 13,
   "id": "1b0638ce-449a-4a7c-a46e-463b0cfb55bc",
   "metadata": {},
   "outputs": [
    {
     "name": "stdout",
     "output_type": "stream",
     "text": [
      "Total de alunos em cada série:\n",
      "Série\n",
      "2    10155\n",
      "1    10019\n",
      "3     9826\n",
      "Name: count, dtype: int64\n"
     ]
    }
   ],
   "source": [
    "# Contar o total de alunos em cada série\n",
    "total_por_serie = data['Série'].value_counts()\n",
    "\n",
    "# Exibir os resultados\n",
    "print(\"Total de alunos em cada série:\")\n",
    "print(total_por_serie)\n"
   ]
  },
  {
   "cell_type": "code",
   "execution_count": null,
   "id": "8205c8ed-8ac1-4909-997c-353a7010f476",
   "metadata": {},
   "outputs": [],
   "source": []
  }
 ],
 "metadata": {
  "kernelspec": {
   "display_name": "Python 3 (ipykernel)",
   "language": "python",
   "name": "python3"
  },
  "language_info": {
   "codemirror_mode": {
    "name": "ipython",
    "version": 3
   },
   "file_extension": ".py",
   "mimetype": "text/x-python",
   "name": "python",
   "nbconvert_exporter": "python",
   "pygments_lexer": "ipython3",
   "version": "3.10.12"
  }
 },
 "nbformat": 4,
 "nbformat_minor": 5
}
