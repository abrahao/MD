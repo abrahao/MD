{
 "cells": [
  {
   "cell_type": "code",
   "execution_count": 2,
   "id": "3d807d32-f73c-4fdf-a925-293aaf7d1a85",
   "metadata": {},
   "outputs": [],
   "source": [
    "import pandas as pd  # Manipulação de dados"
   ]
  },
  {
   "cell_type": "code",
   "execution_count": 34,
   "id": "bdb225b4-f19b-4644-b9cb-8ec694bcdf0a",
   "metadata": {},
   "outputs": [],
   "source": [
    "data = pd.read_csv('dados_aleatorios.csv')"
   ]
  },
  {
   "cell_type": "code",
   "execution_count": 35,
   "id": "470eeee2-1643-46c9-9b29-655dbf6978ea",
   "metadata": {},
   "outputs": [
    {
     "name": "stdout",
     "output_type": "stream",
     "text": [
      "<class 'pandas.core.frame.DataFrame'>\n",
      "RangeIndex: 1000 entries, 0 to 999\n",
      "Data columns (total 9 columns):\n",
      " #   Column                                        Non-Null Count  Dtype  \n",
      "---  ------                                        --------------  -----  \n",
      " 0   Idade                                         1000 non-null   int64  \n",
      " 1   Gênero                                        1000 non-null   object \n",
      " 2   Série                                         1000 non-null   int64  \n",
      " 3   Média de Notas                                1000 non-null   float64\n",
      " 4   Frequência                                    1000 non-null   object \n",
      " 5   Participação em Atividades Extracurriculares  1000 non-null   object \n",
      " 6   Motivo da Evasão                              1000 non-null   object \n",
      " 7   Renda Familiar                                1000 non-null   int64  \n",
      " 8   Localização                                   1000 non-null   object \n",
      "dtypes: float64(1), int64(3), object(5)\n",
      "memory usage: 70.4+ KB\n"
     ]
    }
   ],
   "source": [
    "data.info()"
   ]
  },
  {
   "cell_type": "code",
   "execution_count": 36,
   "id": "3e93124a-80fd-4555-9c3c-820ea734b221",
   "metadata": {},
   "outputs": [
    {
     "name": "stdout",
     "output_type": "stream",
     "text": [
      "Motivo da Evasão\n",
      "0                          630\n",
      "Falta de Interesse          67\n",
      "Falta de Apoio Escolar      66\n",
      "Falta de Apoio Familiar     50\n",
      "Outros                      50\n",
      "Problemas Familiares        48\n",
      "Problemas de Saúde          46\n",
      "Problemas Financeiros       43\n",
      "Name: count, dtype: int64\n"
     ]
    }
   ],
   "source": [
    "motivo_evasao = data['Motivo da Evasão'].value_counts()\n",
    "print(motivo_evasao)"
   ]
  },
  {
   "cell_type": "code",
   "execution_count": 37,
   "id": "5be5dea1-54b7-4828-8303-74ada3acf048",
   "metadata": {},
   "outputs": [
    {
     "data": {
      "text/html": [
       "<div>\n",
       "<style scoped>\n",
       "    .dataframe tbody tr th:only-of-type {\n",
       "        vertical-align: middle;\n",
       "    }\n",
       "\n",
       "    .dataframe tbody tr th {\n",
       "        vertical-align: top;\n",
       "    }\n",
       "\n",
       "    .dataframe thead th {\n",
       "        text-align: right;\n",
       "    }\n",
       "</style>\n",
       "<table border=\"1\" class=\"dataframe\">\n",
       "  <thead>\n",
       "    <tr style=\"text-align: right;\">\n",
       "      <th></th>\n",
       "      <th>Idade</th>\n",
       "      <th>Gênero</th>\n",
       "      <th>Série</th>\n",
       "      <th>Média de Notas</th>\n",
       "      <th>Frequência</th>\n",
       "      <th>Participação em Atividades Extracurriculares</th>\n",
       "      <th>Motivo da Evasão</th>\n",
       "      <th>Renda Familiar</th>\n",
       "      <th>Localização</th>\n",
       "    </tr>\n",
       "  </thead>\n",
       "  <tbody>\n",
       "    <tr>\n",
       "      <th>0</th>\n",
       "      <td>14</td>\n",
       "      <td>Masculino</td>\n",
       "      <td>2</td>\n",
       "      <td>8.4</td>\n",
       "      <td>95.5%</td>\n",
       "      <td>Não</td>\n",
       "      <td>Problemas Financeiros</td>\n",
       "      <td>4144</td>\n",
       "      <td>Rural</td>\n",
       "    </tr>\n",
       "    <tr>\n",
       "      <th>1</th>\n",
       "      <td>19</td>\n",
       "      <td>Masculino</td>\n",
       "      <td>1</td>\n",
       "      <td>6.4</td>\n",
       "      <td>79.3%</td>\n",
       "      <td>Não</td>\n",
       "      <td>Falta de Apoio Familiar</td>\n",
       "      <td>3720</td>\n",
       "      <td>Urbana</td>\n",
       "    </tr>\n",
       "    <tr>\n",
       "      <th>2</th>\n",
       "      <td>19</td>\n",
       "      <td>Masculino</td>\n",
       "      <td>3</td>\n",
       "      <td>7.0</td>\n",
       "      <td>75.2%</td>\n",
       "      <td>Não</td>\n",
       "      <td>0</td>\n",
       "      <td>4556</td>\n",
       "      <td>Urbana</td>\n",
       "    </tr>\n",
       "    <tr>\n",
       "      <th>3</th>\n",
       "      <td>14</td>\n",
       "      <td>Masculino</td>\n",
       "      <td>1</td>\n",
       "      <td>9.4</td>\n",
       "      <td>54.2%</td>\n",
       "      <td>Não</td>\n",
       "      <td>0</td>\n",
       "      <td>1761</td>\n",
       "      <td>Urbana</td>\n",
       "    </tr>\n",
       "    <tr>\n",
       "      <th>4</th>\n",
       "      <td>15</td>\n",
       "      <td>Masculino</td>\n",
       "      <td>1</td>\n",
       "      <td>9.1</td>\n",
       "      <td>73.6%</td>\n",
       "      <td>Sim</td>\n",
       "      <td>0</td>\n",
       "      <td>3644</td>\n",
       "      <td>Urbana</td>\n",
       "    </tr>\n",
       "  </tbody>\n",
       "</table>\n",
       "</div>"
      ],
      "text/plain": [
       "   Idade     Gênero  Série  Média de Notas Frequência  \\\n",
       "0     14  Masculino      2             8.4      95.5%   \n",
       "1     19  Masculino      1             6.4      79.3%   \n",
       "2     19  Masculino      3             7.0      75.2%   \n",
       "3     14  Masculino      1             9.4      54.2%   \n",
       "4     15  Masculino      1             9.1      73.6%   \n",
       "\n",
       "  Participação em Atividades Extracurriculares         Motivo da Evasão  \\\n",
       "0                                          Não    Problemas Financeiros   \n",
       "1                                          Não  Falta de Apoio Familiar   \n",
       "2                                          Não                        0   \n",
       "3                                          Não                        0   \n",
       "4                                          Sim                        0   \n",
       "\n",
       "   Renda Familiar Localização  \n",
       "0            4144       Rural  \n",
       "1            3720      Urbana  \n",
       "2            4556      Urbana  \n",
       "3            1761      Urbana  \n",
       "4            3644      Urbana  "
      ]
     },
     "execution_count": 37,
     "metadata": {},
     "output_type": "execute_result"
    }
   ],
   "source": [
    "data.head()"
   ]
  },
  {
   "cell_type": "code",
   "execution_count": 38,
   "id": "00edde11-2e88-4bb6-adb0-4398cf36ccb0",
   "metadata": {},
   "outputs": [
    {
     "name": "stdout",
     "output_type": "stream",
     "text": [
      "Total de Evadidos: 370\n",
      "Total de Não Evadidos: 630\n"
     ]
    }
   ],
   "source": [
    "# Contar o número de evadidos (Motivo da Evasão diferente de '0')\n",
    "evadidos = data[data['Motivo da Evasão'] != '0'].shape[0]\n",
    "\n",
    "# Contar o número de não evadidos (Motivo da Evasão igual a '0')\n",
    "nao_evadidos = data[data['Motivo da Evasão'] == '0'].shape[0]\n",
    "\n",
    "print(f'Total de Evadidos: {evadidos}')\n",
    "print(f'Total de Não Evadidos: {nao_evadidos}')\n"
   ]
  },
  {
   "cell_type": "code",
   "execution_count": 39,
   "id": "2df5f724-493d-4cb0-b703-05aa59feccc5",
   "metadata": {},
   "outputs": [
    {
     "name": "stdout",
     "output_type": "stream",
     "text": [
      "Gênero\n",
      "Feminino     188\n",
      "Masculino    182\n",
      "Name: count, dtype: int64\n"
     ]
    }
   ],
   "source": [
    "# Filtrar as linhas onde o motivo da evasão é diferente de '0' (ou seja, os evadidos)\n",
    "evadidos = data[data['Motivo da Evasão'] != '0']\n",
    "\n",
    "# Contar o número de evadidos por gênero\n",
    "contagem_por_genero = evadidos['Gênero'].value_counts()\n",
    "\n",
    "print(contagem_por_genero)\n"
   ]
  },
  {
   "cell_type": "code",
   "execution_count": 40,
   "id": "96794667-6d96-4369-a50a-a1b02d79054c",
   "metadata": {},
   "outputs": [
    {
     "name": "stdout",
     "output_type": "stream",
     "text": [
      "(1000, 9)\n"
     ]
    }
   ],
   "source": [
    "print(data.shape)\n"
   ]
  },
  {
   "cell_type": "code",
   "execution_count": 41,
   "id": "0df5c81b-6eac-4b93-adf8-73fa283c78c5",
   "metadata": {},
   "outputs": [
    {
     "name": "stdout",
     "output_type": "stream",
     "text": [
      "(630, 9)\n"
     ]
    }
   ],
   "source": [
    "print(data[data['Motivo da Evasão'] == '0'].shape)"
   ]
  },
  {
   "cell_type": "code",
   "execution_count": 33,
   "id": "9badb9ea-2e14-4c27-be59-dc2bbc4bb2f8",
   "metadata": {},
   "outputs": [
    {
     "name": "stdout",
     "output_type": "stream",
     "text": [
      "(630, 9)\n"
     ]
    }
   ],
   "source": [
    "print(data[data['Motivo da Evasão'] != '0'].shape)\n"
   ]
  },
  {
   "cell_type": "code",
   "execution_count": null,
   "id": "8fb043ac-47ff-4f48-a935-f80884ea056e",
   "metadata": {},
   "outputs": [],
   "source": []
  },
  {
   "cell_type": "code",
   "execution_count": null,
   "id": "1b0638ce-449a-4a7c-a46e-463b0cfb55bc",
   "metadata": {},
   "outputs": [],
   "source": []
  },
  {
   "cell_type": "code",
   "execution_count": null,
   "id": "b9d5424e-f123-4ae4-af50-e4e46ced6fba",
   "metadata": {},
   "outputs": [],
   "source": []
  },
  {
   "cell_type": "code",
   "execution_count": null,
   "id": "d1459ea0-ac1b-49bb-bcce-f56464587b99",
   "metadata": {},
   "outputs": [],
   "source": []
  },
  {
   "cell_type": "code",
   "execution_count": 14,
   "id": "6f87b90c-c102-45f5-b21b-4f5df585954e",
   "metadata": {},
   "outputs": [],
   "source": [
    "import pandas as pd\n",
    "import random\n",
    "\n",
    "# Carregar o arquivo CSV existente\n",
    "df = pd.read_csv('evasao_escolar_ensino_medio.csv')\n",
    "\n",
    "# Definindo os valores possíveis para cada variável\n",
    "idades = [14, 15, 16, 17, 18, 19]\n",
    "generos = ['Feminino', 'Masculino']\n",
    "series = [1, 2, 3]\n",
    "participacao_extracurriculares = ['Sim', 'Não']\n",
    "motivos_evasao = ['0', 'Falta de Apoio Familiar', 'Falta de Apoio Escolar', \n",
    "                  'Falta de Interesse', 'Outros', 'Problemas de Saúde', \n",
    "                  'Problemas Financeiros', 'Problemas Familiares']\n",
    "localizacoes = ['Urbana', 'Rural']\n",
    "\n",
    "# Lista para armazenar novos registros\n",
    "novos_registros = []\n",
    "\n",
    "# Geração de 154 novos registros\n",
    "for _ in range(1654):\n",
    "    genero = random.choice(generos)\n",
    "    if genero == 'Feminino':\n",
    "        motivo = '0'\n",
    "    else:\n",
    "        motivo = random.choice(motivos_evasao[1:])  # Motivos que não sejam '0' para Masculino\n",
    "\n",
    "    novo_registro = {\n",
    "        'Idade': random.choice(idades),\n",
    "        'Gênero': genero,\n",
    "        'Série': random.choice(series),\n",
    "        'Média de Notas': round(random.uniform(0, 10), 2),\n",
    "        'Frequência': round(random.uniform(0, 100), 2),\n",
    "        'Participação em Atividades Extracurriculares': random.choice(participacao_extracurriculares),\n",
    "        'Motivo da Evasão': motivo,\n",
    "        'Renda Familiar': round(random.uniform(800, 5000), 2),\n",
    "        'Localização': random.choice(localizacoes)\n",
    "    }\n",
    "    \n",
    "    # Adiciona o novo registro à lista\n",
    "    novos_registros.append(novo_registro)\n",
    "\n",
    "# Criar um DataFrame com os novos registros\n",
    "df_novos = pd.DataFrame(novos_registros)\n",
    "\n",
    "# Concatenar os novos registros ao DataFrame original\n",
    "df = pd.concat([df, df_novos], ignore_index=True)\n",
    "\n",
    "# Salvar os dados atualizados em um novo arquivo .csv\n",
    "df.to_csv('dados_evasao_atualizados.csv', index=False)\n"
   ]
  },
  {
   "cell_type": "code",
   "execution_count": null,
   "id": "b5cd135c-470d-420f-9c3b-2235e40e3753",
   "metadata": {},
   "outputs": [],
   "source": []
  }
 ],
 "metadata": {
  "kernelspec": {
   "display_name": "Python 3 (ipykernel)",
   "language": "python",
   "name": "python3"
  },
  "language_info": {
   "codemirror_mode": {
    "name": "ipython",
    "version": 3
   },
   "file_extension": ".py",
   "mimetype": "text/x-python",
   "name": "python",
   "nbconvert_exporter": "python",
   "pygments_lexer": "ipython3",
   "version": "3.10.12"
  }
 },
 "nbformat": 4,
 "nbformat_minor": 5
}
