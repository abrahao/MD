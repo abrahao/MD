{
 "cells": [
  {
   "cell_type": "code",
   "execution_count": 23,
   "id": "3d807d32-f73c-4fdf-a925-293aaf7d1a85",
   "metadata": {},
   "outputs": [],
   "source": [
    "import pandas as pd  # Manipulação de dados"
   ]
  },
  {
   "cell_type": "code",
   "execution_count": 31,
   "id": "12bf967e-6bac-429e-af60-babfe98b6027",
   "metadata": {},
   "outputs": [],
   "source": [
    "# 1. Carregar os dados\n",
    "data = pd.read_csv('evasao_escolar_ensino_medio_ajustado_motivo.csv')"
   ]
  },
  {
   "cell_type": "code",
   "execution_count": 30,
   "id": "69b5807f-0cc6-4949-ba46-0f12ee03d9f6",
   "metadata": {},
   "outputs": [
    {
     "name": "stdout",
     "output_type": "stream",
     "text": [
      "Motivo da Evasão\n",
      "0                          3395\n",
      "Falta de Apoio Familiar    2700\n",
      "Problemas Financeiros      2700\n",
      "Outros                     2689\n",
      "Problemas Familiares       2675\n",
      "Falta de Interesse         2669\n",
      "Problemas de Saúde         2664\n",
      "Falta de Apoio Escolar     2648\n",
      "Name: count, dtype: int64\n"
     ]
    }
   ],
   "source": [
    "motivo_evasao = data['Motivo da Evasão'].value_counts()\n",
    "print(motivo_evasao)"
   ]
  },
  {
   "cell_type": "code",
   "execution_count": null,
   "id": "6f47451c-efd3-42e1-8f9d-35c60f364f08",
   "metadata": {},
   "outputs": [],
   "source": []
  }
 ],
 "metadata": {
  "kernelspec": {
   "display_name": "Python 3 (ipykernel)",
   "language": "python",
   "name": "python3"
  },
  "language_info": {
   "codemirror_mode": {
    "name": "ipython",
    "version": 3
   },
   "file_extension": ".py",
   "mimetype": "text/x-python",
   "name": "python",
   "nbconvert_exporter": "python",
   "pygments_lexer": "ipython3",
   "version": "3.10.12"
  }
 },
 "nbformat": 4,
 "nbformat_minor": 5
}
