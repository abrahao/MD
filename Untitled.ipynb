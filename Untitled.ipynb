{
 "cells": [
  {
   "cell_type": "code",
   "execution_count": 35,
   "id": "3d807d32-f73c-4fdf-a925-293aaf7d1a85",
   "metadata": {},
   "outputs": [],
   "source": [
    "import pandas as pd  # Manipulação de dados"
   ]
  },
  {
   "cell_type": "code",
   "execution_count": 75,
   "id": "bdb225b4-f19b-4644-b9cb-8ec694bcdf0a",
   "metadata": {},
   "outputs": [],
   "source": [
    "data2 = pd.read_csv('evasao_escolar_ensino_medio_sem_evasao.csv')"
   ]
  },
  {
   "cell_type": "code",
   "execution_count": 76,
   "id": "470eeee2-1643-46c9-9b29-655dbf6978ea",
   "metadata": {},
   "outputs": [
    {
     "name": "stdout",
     "output_type": "stream",
     "text": [
      "<class 'pandas.core.frame.DataFrame'>\n",
      "RangeIndex: 23240 entries, 0 to 23239\n",
      "Data columns (total 9 columns):\n",
      " #   Column                                        Non-Null Count  Dtype  \n",
      "---  ------                                        --------------  -----  \n",
      " 0   Idade                                         23240 non-null  int64  \n",
      " 1   Gênero                                        23240 non-null  object \n",
      " 2   Série                                         23240 non-null  int64  \n",
      " 3   Média de Notas                                23240 non-null  float64\n",
      " 4   Frequência                                    23240 non-null  object \n",
      " 5   Participação em Atividades Extracurriculares  23240 non-null  object \n",
      " 6   Motivo da Evasão                              23240 non-null  object \n",
      " 7   Renda Familiar                                23240 non-null  int64  \n",
      " 8   Localização                                   23240 non-null  object \n",
      "dtypes: float64(1), int64(3), object(5)\n",
      "memory usage: 1.6+ MB\n"
     ]
    }
   ],
   "source": [
    "data2.info()"
   ]
  },
  {
   "cell_type": "code",
   "execution_count": 77,
   "id": "3e93124a-80fd-4555-9c3c-820ea734b221",
   "metadata": {},
   "outputs": [
    {
     "name": "stdout",
     "output_type": "stream",
     "text": [
      "Motivo da Evasão\n",
      "0                          9838\n",
      "Problemas Financeiros      1937\n",
      "Outros                     1922\n",
      "Problemas Familiares       1919\n",
      "Falta de Apoio Familiar    1913\n",
      "Falta de Apoio Escolar     1910\n",
      "Problemas de Saúde         1901\n",
      "Falta de Interesse         1900\n",
      "Name: count, dtype: int64\n"
     ]
    }
   ],
   "source": [
    "motivo_evasao = data['Motivo da Evasão'].value_counts()\n",
    "print(motivo_evasao)"
   ]
  },
  {
   "cell_type": "code",
   "execution_count": 80,
   "id": "15f00baf-4710-46c8-a12c-e79f5d433a0d",
   "metadata": {},
   "outputs": [
    {
     "name": "stdout",
     "output_type": "stream",
     "text": [
      "Total de evadidos: 0\n"
     ]
    }
   ],
   "source": [
    "# Contar o total de evadidos\n",
    "total_evadidos = data[data['Motivo da Evasão'] == 0].shape[0]\n",
    "\n",
    "# Exibir o total de evadidos\n",
    "print(f'Total de evadidos: {total_evadidos}')\n"
   ]
  },
  {
   "cell_type": "code",
   "execution_count": null,
   "id": "ea5df2b2-9870-40c4-87aa-e00aeb087f1b",
   "metadata": {},
   "outputs": [],
   "source": []
  }
 ],
 "metadata": {
  "kernelspec": {
   "display_name": "Python 3 (ipykernel)",
   "language": "python",
   "name": "python3"
  },
  "language_info": {
   "codemirror_mode": {
    "name": "ipython",
    "version": 3
   },
   "file_extension": ".py",
   "mimetype": "text/x-python",
   "name": "python",
   "nbconvert_exporter": "python",
   "pygments_lexer": "ipython3",
   "version": "3.10.12"
  }
 },
 "nbformat": 4,
 "nbformat_minor": 5
}
