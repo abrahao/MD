{
 "cells": [
  {
   "cell_type": "code",
   "execution_count": 16,
   "id": "ab4fc0f4-580b-4c4c-a5e1-41dff8fd2508",
   "metadata": {},
   "outputs": [],
   "source": [
    "# Importando bibliotecas necessárias\n",
    "from sklearn.preprocessing import LabelEncoder, MinMaxScaler\n",
    "import numpy as np\n"
   ]
  },
  {
   "cell_type": "code",
   "execution_count": 21,
   "id": "5de3a619-cbc2-4da7-8f2d-b10273c3ef9f",
   "metadata": {},
   "outputs": [
    {
     "data": {
      "text/plain": [
       "'evasao_escolar_transformado_v2.csv'"
      ]
     },
     "execution_count": 21,
     "metadata": {},
     "output_type": "execute_result"
    }
   ],
   "source": [
    "# Reaplicando as transformações feitas anteriormente para recriar o dataframe limpo\n",
    "# 1. Verificar e tratar dados faltantes\n",
    "df_clean = df.copy()\n",
    "\n",
    "df_clean.fillna({\n",
    "    'Idade': df_clean['Idade'].mean(),\n",
    "    'Media de Notas': df_clean['Media de Notas'].mean(),\n",
    "    'Frequencia': df_clean['Frequencia'].mode()[0],\n",
    "    'Renda Familiar': df_clean['Renda Familiar'].mean(),\n",
    "    'Genero': df_clean['Genero'].mode()[0],\n",
    "    'Participacao em Atividades Extracurriculares': df_clean['Participacao em Atividades Extracurriculares'].mode()[0],\n",
    "    'Motivo da Evasao': 'Nenhum'\n",
    "}, inplace=True)\n",
    "\n",
    "# 2. Converter variáveis categóricas\n",
    "label_encoder = LabelEncoder()\n",
    "\n",
    "df_clean['Genero'] = label_encoder.fit_transform(df_clean['Genero'])\n",
    "df_clean['Participacao em Atividades Extracurriculares'] = label_encoder.fit_transform(df_clean['Participacao em Atividades Extracurriculares'])\n",
    "df_clean['Localizacao'] = label_encoder.fit_transform(df_clean['Localizacao'])\n",
    "\n",
    "df_clean = pd.get_dummies(df_clean, columns=['Motivo da Evasao'], drop_first=True)\n",
    "\n",
    "# 3. Converter coluna \"Frequencia\" para formato numérico\n",
    "df_clean['Frequencia'] = df_clean['Frequencia'].apply(lambda x: float(str(x).replace('%', '')) / 100)\n",
    "\n",
    "# 4. Normalizar variáveis numéricas\n",
    "scaler = MinMaxScaler()\n",
    "\n",
    "df_clean[['Idade', 'Media de Notas', 'Frequencia', 'Renda Familiar']] = scaler.fit_transform(\n",
    "    df_clean[['Idade', 'Media de Notas', 'Frequencia', 'Renda Familiar']]\n",
    ")\n",
    "\n",
    "# 5. Criar um novo arquivo CSV com o dataset transformado\n",
    "output_path = 'evasao_escolar_transformado_v2.csv'\n",
    "df_clean.to_csv(output_path, index=False)\n",
    "\n",
    "output_path\n"
   ]
  },
  {
   "cell_type": "code",
   "execution_count": null,
   "id": "aaede6f6-8030-48ba-80dc-a5b0c819e66c",
   "metadata": {},
   "outputs": [],
   "source": []
  }
 ],
 "metadata": {
  "kernelspec": {
   "display_name": "Python 3 (ipykernel)",
   "language": "python",
   "name": "python3"
  },
  "language_info": {
   "codemirror_mode": {
    "name": "ipython",
    "version": 3
   },
   "file_extension": ".py",
   "mimetype": "text/x-python",
   "name": "python",
   "nbconvert_exporter": "python",
   "pygments_lexer": "ipython3",
   "version": "3.10.12"
  }
 },
 "nbformat": 4,
 "nbformat_minor": 5
}
