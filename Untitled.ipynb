{
 "cells": [
  {
   "cell_type": "code",
   "execution_count": 10,
   "id": "3d807d32-f73c-4fdf-a925-293aaf7d1a85",
   "metadata": {},
   "outputs": [],
   "source": [
    "import pandas as pd  # Manipulação de dados"
   ]
  },
  {
   "cell_type": "code",
   "execution_count": 11,
   "id": "bdb225b4-f19b-4644-b9cb-8ec694bcdf0a",
   "metadata": {},
   "outputs": [],
   "source": [
    "data = pd.read_csv('evasao_escolar_ensino_medio.csv')"
   ]
  },
  {
   "cell_type": "code",
   "execution_count": 12,
   "id": "470eeee2-1643-46c9-9b29-655dbf6978ea",
   "metadata": {},
   "outputs": [
    {
     "name": "stdout",
     "output_type": "stream",
     "text": [
      "<class 'pandas.core.frame.DataFrame'>\n",
      "RangeIndex: 500000 entries, 0 to 499999\n",
      "Data columns (total 9 columns):\n",
      " #   Column                                        Non-Null Count   Dtype  \n",
      "---  ------                                        --------------   -----  \n",
      " 0   Idade                                         500000 non-null  int64  \n",
      " 1   Gênero                                        500000 non-null  object \n",
      " 2   Série                                         500000 non-null  int64  \n",
      " 3   Média de Notas                                500000 non-null  float64\n",
      " 4   Frequência                                    500000 non-null  object \n",
      " 5   Participação em Atividades Extracurriculares  500000 non-null  object \n",
      " 6   Motivo da Evasão                              500000 non-null  object \n",
      " 7   Renda Familiar                                500000 non-null  int64  \n",
      " 8   Localização                                   500000 non-null  object \n",
      "dtypes: float64(1), int64(3), object(5)\n",
      "memory usage: 34.3+ MB\n"
     ]
    }
   ],
   "source": [
    "data.info()"
   ]
  },
  {
   "cell_type": "code",
   "execution_count": 13,
   "id": "3e93124a-80fd-4555-9c3c-820ea734b221",
   "metadata": {},
   "outputs": [
    {
     "name": "stdout",
     "output_type": "stream",
     "text": [
      "Motivo da Evasão\n",
      "0                          279944\n",
      "Problemas Familiares        31672\n",
      "Falta de Apoio Escolar      31652\n",
      "Problemas Financeiros       31483\n",
      "Problemas de Saúde          31385\n",
      "Falta de Interesse          31349\n",
      "Falta de Apoio Familiar     31273\n",
      "Outros                      31242\n",
      "Name: count, dtype: int64\n"
     ]
    }
   ],
   "source": [
    "motivo_evasao = data['Motivo da Evasão'].value_counts()\n",
    "print(motivo_evasao)"
   ]
  },
  {
   "cell_type": "code",
   "execution_count": 14,
   "id": "5be5dea1-54b7-4828-8303-74ada3acf048",
   "metadata": {},
   "outputs": [
    {
     "data": {
      "text/html": [
       "<div>\n",
       "<style scoped>\n",
       "    .dataframe tbody tr th:only-of-type {\n",
       "        vertical-align: middle;\n",
       "    }\n",
       "\n",
       "    .dataframe tbody tr th {\n",
       "        vertical-align: top;\n",
       "    }\n",
       "\n",
       "    .dataframe thead th {\n",
       "        text-align: right;\n",
       "    }\n",
       "</style>\n",
       "<table border=\"1\" class=\"dataframe\">\n",
       "  <thead>\n",
       "    <tr style=\"text-align: right;\">\n",
       "      <th></th>\n",
       "      <th>Idade</th>\n",
       "      <th>Gênero</th>\n",
       "      <th>Série</th>\n",
       "      <th>Média de Notas</th>\n",
       "      <th>Frequência</th>\n",
       "      <th>Participação em Atividades Extracurriculares</th>\n",
       "      <th>Motivo da Evasão</th>\n",
       "      <th>Renda Familiar</th>\n",
       "      <th>Localização</th>\n",
       "    </tr>\n",
       "  </thead>\n",
       "  <tbody>\n",
       "    <tr>\n",
       "      <th>0</th>\n",
       "      <td>18</td>\n",
       "      <td>Feminino</td>\n",
       "      <td>3</td>\n",
       "      <td>6.7</td>\n",
       "      <td>51.5%</td>\n",
       "      <td>Sim</td>\n",
       "      <td>0</td>\n",
       "      <td>3710</td>\n",
       "      <td>Rural</td>\n",
       "    </tr>\n",
       "    <tr>\n",
       "      <th>1</th>\n",
       "      <td>16</td>\n",
       "      <td>Feminino</td>\n",
       "      <td>2</td>\n",
       "      <td>6.2</td>\n",
       "      <td>79.8%</td>\n",
       "      <td>Sim</td>\n",
       "      <td>Problemas Financeiros</td>\n",
       "      <td>1504</td>\n",
       "      <td>Rural</td>\n",
       "    </tr>\n",
       "    <tr>\n",
       "      <th>2</th>\n",
       "      <td>18</td>\n",
       "      <td>Feminino</td>\n",
       "      <td>2</td>\n",
       "      <td>7.6</td>\n",
       "      <td>92.0%</td>\n",
       "      <td>Não</td>\n",
       "      <td>0</td>\n",
       "      <td>2506</td>\n",
       "      <td>Rural</td>\n",
       "    </tr>\n",
       "    <tr>\n",
       "      <th>3</th>\n",
       "      <td>17</td>\n",
       "      <td>Masculino</td>\n",
       "      <td>1</td>\n",
       "      <td>8.6</td>\n",
       "      <td>54.2%</td>\n",
       "      <td>Sim</td>\n",
       "      <td>0</td>\n",
       "      <td>2976</td>\n",
       "      <td>Rural</td>\n",
       "    </tr>\n",
       "    <tr>\n",
       "      <th>4</th>\n",
       "      <td>19</td>\n",
       "      <td>Masculino</td>\n",
       "      <td>1</td>\n",
       "      <td>6.1</td>\n",
       "      <td>97.5%</td>\n",
       "      <td>Não</td>\n",
       "      <td>Falta de Interesse</td>\n",
       "      <td>2882</td>\n",
       "      <td>Urbana</td>\n",
       "    </tr>\n",
       "  </tbody>\n",
       "</table>\n",
       "</div>"
      ],
      "text/plain": [
       "   Idade     Gênero  Série  Média de Notas Frequência  \\\n",
       "0     18   Feminino      3             6.7      51.5%   \n",
       "1     16   Feminino      2             6.2      79.8%   \n",
       "2     18   Feminino      2             7.6      92.0%   \n",
       "3     17  Masculino      1             8.6      54.2%   \n",
       "4     19  Masculino      1             6.1      97.5%   \n",
       "\n",
       "  Participação em Atividades Extracurriculares       Motivo da Evasão  \\\n",
       "0                                          Sim                      0   \n",
       "1                                          Sim  Problemas Financeiros   \n",
       "2                                          Não                      0   \n",
       "3                                          Sim                      0   \n",
       "4                                          Não     Falta de Interesse   \n",
       "\n",
       "   Renda Familiar Localização  \n",
       "0            3710       Rural  \n",
       "1            1504       Rural  \n",
       "2            2506       Rural  \n",
       "3            2976       Rural  \n",
       "4            2882      Urbana  "
      ]
     },
     "execution_count": 14,
     "metadata": {},
     "output_type": "execute_result"
    }
   ],
   "source": [
    "data.head()"
   ]
  },
  {
   "cell_type": "code",
   "execution_count": 15,
   "id": "00edde11-2e88-4bb6-adb0-4398cf36ccb0",
   "metadata": {},
   "outputs": [
    {
     "name": "stdout",
     "output_type": "stream",
     "text": [
      "Total de Evadidos: 220056\n",
      "Total de Não Evadidos: 279944\n"
     ]
    }
   ],
   "source": [
    "# Contar o número de evadidos (Motivo da Evasão diferente de '0')\n",
    "evadidos = data[data['Motivo da Evasão'] != '0'].shape[0]\n",
    "\n",
    "# Contar o número de não evadidos (Motivo da Evasão igual a '0')\n",
    "nao_evadidos = data[data['Motivo da Evasão'] == '0'].shape[0]\n",
    "\n",
    "print(f'Total de Evadidos: {evadidos}')\n",
    "print(f'Total de Não Evadidos: {nao_evadidos}')\n"
   ]
  },
  {
   "cell_type": "code",
   "execution_count": 16,
   "id": "2df5f724-493d-4cb0-b703-05aa59feccc5",
   "metadata": {},
   "outputs": [
    {
     "name": "stdout",
     "output_type": "stream",
     "text": [
      "Gênero\n",
      "Feminino     137757\n",
      "Masculino     82299\n",
      "Name: count, dtype: int64\n"
     ]
    }
   ],
   "source": [
    "# Filtrar as linhas onde o motivo da evasão é diferente de '0' (ou seja, os evadidos)\n",
    "evadidos = data[data['Motivo da Evasão'] != '0']\n",
    "\n",
    "# Contar o número de evadidos por gênero\n",
    "contagem_por_genero = evadidos['Gênero'].value_counts()\n",
    "\n",
    "print(contagem_por_genero)\n"
   ]
  },
  {
   "cell_type": "code",
   "execution_count": 17,
   "id": "96794667-6d96-4369-a50a-a1b02d79054c",
   "metadata": {},
   "outputs": [
    {
     "name": "stdout",
     "output_type": "stream",
     "text": [
      "(500000, 9)\n"
     ]
    }
   ],
   "source": [
    "print(data.shape)\n"
   ]
  },
  {
   "cell_type": "code",
   "execution_count": 9,
   "id": "0df5c81b-6eac-4b93-adf8-73fa283c78c5",
   "metadata": {},
   "outputs": [
    {
     "name": "stdout",
     "output_type": "stream",
     "text": [
      "(64178, 9)\n"
     ]
    }
   ],
   "source": [
    "print(data[data['Motivo da Evasão'] == '0'].shape)"
   ]
  },
  {
   "cell_type": "code",
   "execution_count": 10,
   "id": "9badb9ea-2e14-4c27-be59-dc2bbc4bb2f8",
   "metadata": {},
   "outputs": [
    {
     "name": "stdout",
     "output_type": "stream",
     "text": [
      "(35822, 9)\n"
     ]
    }
   ],
   "source": [
    "print(data[data['Motivo da Evasão'] != '0'].shape)\n"
   ]
  },
  {
   "cell_type": "code",
   "execution_count": null,
   "id": "8fb043ac-47ff-4f48-a935-f80884ea056e",
   "metadata": {},
   "outputs": [],
   "source": [
    "        "
   ]
  },
  {
   "cell_type": "code",
   "execution_count": 13,
   "id": "1b0638ce-449a-4a7c-a46e-463b0cfb55bc",
   "metadata": {},
   "outputs": [
    {
     "name": "stdout",
     "output_type": "stream",
     "text": [
      "Total de alunos em cada série:\n",
      "Série\n",
      "2    10155\n",
      "1    10019\n",
      "3     9826\n",
      "Name: count, dtype: int64\n"
     ]
    }
   ],
   "source": [
    "# Contar o total de alunos em cada série\n",
    "total_por_serie = data['Série'].value_counts()\n",
    "\n",
    "# Exibir os resultados\n",
    "print(\"Total de alunos em cada série:\")\n",
    "print(total_por_serie)\n"
   ]
  },
  {
   "cell_type": "code",
   "execution_count": null,
   "id": "8205c8ed-8ac1-4909-997c-353a7010f476",
   "metadata": {},
   "outputs": [],
   "source": []
  }
 ],
 "metadata": {
  "kernelspec": {
   "display_name": "Python 3 (ipykernel)",
   "language": "python",
   "name": "python3"
  },
  "language_info": {
   "codemirror_mode": {
    "name": "ipython",
    "version": 3
   },
   "file_extension": ".py",
   "mimetype": "text/x-python",
   "name": "python",
   "nbconvert_exporter": "python",
   "pygments_lexer": "ipython3",
   "version": "3.10.12"
  }
 },
 "nbformat": 4,
 "nbformat_minor": 5
}
