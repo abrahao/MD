{
 "cells": [
  {
   "cell_type": "code",
   "execution_count": 35,
   "id": "3d807d32-f73c-4fdf-a925-293aaf7d1a85",
   "metadata": {},
   "outputs": [],
   "source": [
    "import pandas as pd  # Manipulação de dados"
   ]
  },
  {
   "cell_type": "code",
   "execution_count": 59,
   "id": "bdb225b4-f19b-4644-b9cb-8ec694bcdf0a",
   "metadata": {},
   "outputs": [],
   "source": [
    "data2 = pd.read_csv('evasao_escolar_ensino_medio_ajustado_com_aleatorios.csv')"
   ]
  },
  {
   "cell_type": "code",
   "execution_count": 60,
   "id": "470eeee2-1643-46c9-9b29-655dbf6978ea",
   "metadata": {},
   "outputs": [
    {
     "name": "stdout",
     "output_type": "stream",
     "text": [
      "<class 'pandas.core.frame.DataFrame'>\n",
      "RangeIndex: 23240 entries, 0 to 23239\n",
      "Data columns (total 10 columns):\n",
      " #   Column                                        Non-Null Count  Dtype  \n",
      "---  ------                                        --------------  -----  \n",
      " 0   Idade                                         23240 non-null  int64  \n",
      " 1   Gênero                                        23240 non-null  object \n",
      " 2   Série                                         23240 non-null  int64  \n",
      " 3   Média de Notas                                23240 non-null  float64\n",
      " 4   Frequência                                    23240 non-null  object \n",
      " 5   Participação em Atividades Extracurriculares  23240 non-null  object \n",
      " 6   Motivo da Evasão                              23240 non-null  object \n",
      " 7   Renda Familiar                                23240 non-null  int64  \n",
      " 8   Localização                                   23240 non-null  object \n",
      " 9   Evasao                                        1100 non-null   float64\n",
      "dtypes: float64(2), int64(3), object(5)\n",
      "memory usage: 1.8+ MB\n"
     ]
    }
   ],
   "source": [
    "data2.info()"
   ]
  },
  {
   "cell_type": "code",
   "execution_count": 61,
   "id": "3e93124a-80fd-4555-9c3c-820ea734b221",
   "metadata": {},
   "outputs": [
    {
     "name": "stdout",
     "output_type": "stream",
     "text": [
      "Motivo da Evasão\n",
      "0                          9796\n",
      "Problemas Financeiros      1932\n",
      "Problemas Familiares       1912\n",
      "Outros                     1911\n",
      "Falta de Apoio Familiar    1903\n",
      "Falta de Apoio Escolar     1899\n",
      "Problemas de Saúde         1894\n",
      "Falta de Interesse         1893\n",
      "Name: count, dtype: int64\n"
     ]
    }
   ],
   "source": [
    "motivo_evasao = data['Motivo da Evasão'].value_counts()\n",
    "print(motivo_evasao)"
   ]
  },
  {
   "cell_type": "code",
   "execution_count": null,
   "id": "b9d83040-d524-4464-b75f-fce8e49b2604",
   "metadata": {},
   "outputs": [],
   "source": []
  },
  {
   "cell_type": "code",
   "execution_count": 58,
   "id": "65dd1199-dc16-40f9-b7a6-46f943821fde",
   "metadata": {},
   "outputs": [
    {
     "name": "stdout",
     "output_type": "stream",
     "text": [
      "Dados adicionados com sucesso. O arquivo completo foi salvo como 'evasao_escolar_ensino_medio_ajustado_com_aleatorios.csv'.\n"
     ]
    }
   ],
   "source": [
    "import pandas as pd\n",
    "import numpy as np\n",
    "\n",
    "# Carregar os dados\n",
    "data = pd.read_csv('evasao_escolar_ensino_medio.csv')\n",
    "\n",
    "# Geração de dados aleatórios\n",
    "num_samples = 100\n",
    "idades = np.random.randint(15, 19, num_samples)\n",
    "gêneros = np.random.choice(['Feminino', 'Masculino'], num_samples)\n",
    "séries = np.random.choice([1, 2, 3], num_samples)\n",
    "média_notas = np.round(np.random.uniform(5, 10, num_samples), 1)\n",
    "frequências = np.round(np.random.uniform(50, 100, num_samples), 1).astype(str) + '%'\n",
    "participações = np.random.choice(['Sim', 'Não'], num_samples)\n",
    "renda_familiar = np.random.randint(500, 5000, num_samples)\n",
    "localizações = np.random.choice(['Urbana', 'Rural'], num_samples)\n",
    "\n",
    "# Definir o motivo da evasão de acordo com o gênero\n",
    "motivos = []\n",
    "for gênero in gêneros:\n",
    "    if gênero == 'Feminino':\n",
    "        motivos.append('0')\n",
    "    else:\n",
    "        motivos.append(np.random.choice(['Falta de Apoio Familiar', 'Outros', 'Falta de Apoio Escolar', 'Falta de Interesse', 'Problemas de Saúde', 'Problemas Financeiros', 'Problemas Familiares']))\n",
    "\n",
    "# Definir a coluna de evasão com base no motivo\n",
    "evasao = np.where(np.array(motivos) == '0', 0, 1)\n",
    "\n",
    "# Criação do DataFrame\n",
    "dados_aleatorios = pd.DataFrame({\n",
    "    'Idade': idades,\n",
    "    'Gênero': gêneros,\n",
    "    'Série': séries,\n",
    "    'Média de Notas': média_notas,\n",
    "    'Frequência': frequências,\n",
    "    'Participação em Atividades Extracurriculares': participações,\n",
    "    'Motivo da Evasão': motivos,\n",
    "    'Renda Familiar': renda_familiar,\n",
    "    'Localização': localizações,\n",
    "    'Evasao': evasao\n",
    "})\n",
    "\n",
    "# Combinar os dados originais com os novos dados\n",
    "data_completa = pd.concat([data, dados_aleatorios], ignore_index=True)\n",
    "data_completa.to_csv('evasao_escolar_ensino_medio_ajustado_com_aleatorios.csv', index=False)\n",
    "\n",
    "print(\"Dados adicionados com sucesso. O arquivo completo foi salvo como 'evasao_escolar_ensino_medio_ajustado_com_aleatorios.csv'.\")\n"
   ]
  },
  {
   "cell_type": "code",
   "execution_count": null,
   "id": "4c37a836-6504-4bd2-9458-9531e28a00f9",
   "metadata": {},
   "outputs": [],
   "source": []
  }
 ],
 "metadata": {
  "kernelspec": {
   "display_name": "Python 3 (ipykernel)",
   "language": "python",
   "name": "python3"
  },
  "language_info": {
   "codemirror_mode": {
    "name": "ipython",
    "version": 3
   },
   "file_extension": ".py",
   "mimetype": "text/x-python",
   "name": "python",
   "nbconvert_exporter": "python",
   "pygments_lexer": "ipython3",
   "version": "3.10.12"
  }
 },
 "nbformat": 4,
 "nbformat_minor": 5
}
