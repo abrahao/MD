{
 "cells": [
  {
   "cell_type": "code",
   "execution_count": 35,
   "id": "3d807d32-f73c-4fdf-a925-293aaf7d1a85",
   "metadata": {},
   "outputs": [],
   "source": [
    "import pandas as pd  # Manipulação de dados"
   ]
  },
  {
   "cell_type": "code",
   "execution_count": 53,
   "id": "bdb225b4-f19b-4644-b9cb-8ec694bcdf0a",
   "metadata": {},
   "outputs": [],
   "source": [
    "data2 = pd.read_csv('evasao_escolar_ensino_medio_completo.csv')"
   ]
  },
  {
   "cell_type": "code",
   "execution_count": 54,
   "id": "470eeee2-1643-46c9-9b29-655dbf6978ea",
   "metadata": {},
   "outputs": [
    {
     "name": "stdout",
     "output_type": "stream",
     "text": [
      "<class 'pandas.core.frame.DataFrame'>\n",
      "RangeIndex: 23140 entries, 0 to 23139\n",
      "Data columns (total 10 columns):\n",
      " #   Column                                        Non-Null Count  Dtype  \n",
      "---  ------                                        --------------  -----  \n",
      " 0   Idade                                         23140 non-null  int64  \n",
      " 1   Gênero                                        23140 non-null  object \n",
      " 2   Série                                         23140 non-null  int64  \n",
      " 3   Média de Notas                                23140 non-null  float64\n",
      " 4   Frequência                                    23140 non-null  object \n",
      " 5   Participação em Atividades Extracurriculares  23140 non-null  object \n",
      " 6   Motivo da Evasão                              23140 non-null  object \n",
      " 7   Renda Familiar                                23140 non-null  int64  \n",
      " 8   Localização                                   23140 non-null  object \n",
      " 9   Evasao                                        1000 non-null   float64\n",
      "dtypes: float64(2), int64(3), object(5)\n",
      "memory usage: 1.8+ MB\n"
     ]
    }
   ],
   "source": [
    "data2.info()"
   ]
  },
  {
   "cell_type": "code",
   "execution_count": null,
   "id": "3e93124a-80fd-4555-9c3c-820ea734b221",
   "metadata": {},
   "outputs": [],
   "source": []
  }
 ],
 "metadata": {
  "kernelspec": {
   "display_name": "Python 3 (ipykernel)",
   "language": "python",
   "name": "python3"
  },
  "language_info": {
   "codemirror_mode": {
    "name": "ipython",
    "version": 3
   },
   "file_extension": ".py",
   "mimetype": "text/x-python",
   "name": "python",
   "nbconvert_exporter": "python",
   "pygments_lexer": "ipython3",
   "version": "3.10.12"
  }
 },
 "nbformat": 4,
 "nbformat_minor": 5
}
