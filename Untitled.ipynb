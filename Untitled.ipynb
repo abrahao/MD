{
 "cells": [
  {
   "cell_type": "code",
   "execution_count": 1,
   "id": "aaede6f6-8030-48ba-80dc-a5b0c819e66c",
   "metadata": {},
   "outputs": [
    {
     "name": "stdout",
     "output_type": "stream",
     "text": [
      "Contagem original de motivos de evasão:\n",
      "Motivo da Evasão\n",
      "0                          3395\n",
      "Falta de Apoio Familiar    2700\n",
      "Problemas Financeiros      2700\n",
      "Outros                     2689\n",
      "Problemas Familiares       2675\n",
      "Falta de Interesse         2669\n",
      "Problemas de Saúde         2664\n",
      "Falta de Apoio Escolar     2648\n",
      "Name: count, dtype: int64\n",
      "\n",
      "Nova contagem de motivos de evasão:\n",
      "Motivo da Evasão\n",
      "0                          9645\n",
      "Falta de Apoio Familiar    2700\n",
      "Problemas Financeiros      2700\n",
      "Outros                     2689\n",
      "Problemas Familiares       2675\n",
      "Falta de Interesse         2669\n",
      "Problemas de Saúde         2664\n",
      "Falta de Apoio Escolar     2648\n",
      "Name: count, dtype: int64\n"
     ]
    },
    {
     "name": "stderr",
     "output_type": "stream",
     "text": [
      "/tmp/ipykernel_29376/3610338678.py:15: FutureWarning: Series.__getitem__ treating keys as positions is deprecated. In a future version, integer keys will always be treated as labels (consistent with DataFrame behavior). To access a value by position, use `ser.iloc[pos]`\n",
      "  atual_zero = motivo_evasao.get(0, 0)\n",
      "/tmp/ipykernel_29376/3610338678.py:21: FutureWarning: Series.__setitem__ treating keys as positions is deprecated. In a future version, integer keys will always be treated as labels (consistent with DataFrame behavior). To set a value by position, use `ser.iloc[pos] = value`\n",
      "  motivo_evasao[0] = atual_zero + necessario_zero\n"
     ]
    }
   ],
   "source": [
    "import pandas as pd\n",
    "\n",
    "# Carregar os dados\n",
    "data = pd.read_csv('evasao_escolar_ensino_medio.csv')\n",
    "\n",
    "# Calcular os motivos de evasão\n",
    "motivo_evasao = data['Motivo da Evasão'].value_counts()\n",
    "\n",
    "# Exibir a contagem original\n",
    "print(\"Contagem original de motivos de evasão:\")\n",
    "print(motivo_evasao)\n",
    "\n",
    "# Ajustar a contagem do motivo com valor zero\n",
    "# Número atual de ocorrências do motivo 0\n",
    "atual_zero = motivo_evasao.get(0, 0)\n",
    "# Calcular quantas ocorrências precisam ser adicionadas\n",
    "necessario_zero = 9645 - atual_zero\n",
    "\n",
    "if necessario_zero > 0:\n",
    "    # Adicionar as ocorrências necessárias\n",
    "    motivo_evasao[0] = atual_zero + necessario_zero\n",
    "else:\n",
    "    print(\"A contagem já está maior ou igual a 9645.\")\n",
    "\n",
    "# Exibir a nova contagem\n",
    "print(\"\\nNova contagem de motivos de evasão:\")\n",
    "print(motivo_evasao)\n",
    "\n",
    "# Salvar as alterações em um novo arquivo CSV\n",
    "data.to_csv('evasao_escolar_atualizado.csv', index=False)\n"
   ]
  },
  {
   "cell_type": "code",
   "execution_count": null,
   "id": "64860f7c-6734-4b5a-af0b-0a33ea39bf20",
   "metadata": {},
   "outputs": [],
   "source": []
  }
 ],
 "metadata": {
  "kernelspec": {
   "display_name": "Python 3 (ipykernel)",
   "language": "python",
   "name": "python3"
  },
  "language_info": {
   "codemirror_mode": {
    "name": "ipython",
    "version": 3
   },
   "file_extension": ".py",
   "mimetype": "text/x-python",
   "name": "python",
   "nbconvert_exporter": "python",
   "pygments_lexer": "ipython3",
   "version": "3.10.12"
  }
 },
 "nbformat": 4,
 "nbformat_minor": 5
}
