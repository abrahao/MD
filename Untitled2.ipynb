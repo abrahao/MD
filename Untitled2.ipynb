{
 "cells": [
  {
   "cell_type": "code",
   "execution_count": 1,
   "id": "05e650f1-820f-49ae-b9e3-56344ae44eb7",
   "metadata": {},
   "outputs": [
    {
     "name": "stdout",
     "output_type": "stream",
     "text": [
      "Defaulting to user installation because normal site-packages is not writeable\n",
      "Collecting fairlearn\n",
      "  Downloading fairlearn-0.10.0-py3-none-any.whl (234 kB)\n",
      "\u001b[2K     \u001b[38;2;114;156;31m━━━━━━━━━━━━━━━━━━━━━━━━━━━━━━━━━━━━━━━\u001b[0m \u001b[32m234.1/234.1 KB\u001b[0m \u001b[31m1.3 MB/s\u001b[0m eta \u001b[36m0:00:00\u001b[0m MB/s\u001b[0m eta \u001b[36m0:00:01\u001b[0m:01\u001b[0m\n",
      "\u001b[?25hCollecting dalex\n",
      "  Downloading dalex-1.7.1.tar.gz (1.0 MB)\n",
      "\u001b[2K     \u001b[38;2;114;156;31m━━━━━━━━━━━━━━━━━━━━━━━━━━━━━━━━━━━━━━━━\u001b[0m \u001b[32m1.0/1.0 MB\u001b[0m \u001b[31m4.9 MB/s\u001b[0m eta \u001b[36m0:00:00\u001b[0m[31m5.0 MB/s\u001b[0m eta \u001b[36m0:00:01\u001b[0m\n",
      "\u001b[?25h  Preparing metadata (setup.py) ... \u001b[?25ldone\n",
      "\u001b[?25hCollecting imbalanced-learn\n",
      "  Downloading imbalanced_learn-0.12.4-py3-none-any.whl (258 kB)\n",
      "\u001b[2K     \u001b[38;2;114;156;31m━━━━━━━━━━━━━━━━━━━━━━━━━━━━━━━━━━━━━━━\u001b[0m \u001b[32m258.3/258.3 KB\u001b[0m \u001b[31m4.9 MB/s\u001b[0m eta \u001b[36m0:00:00\u001b[0mm eta \u001b[36m0:00:01\u001b[0m\n",
      "\u001b[?25hRequirement already satisfied: scikit-learn>=1.2.1 in /home/abrahao/.local/lib/python3.10/site-packages (from fairlearn) (1.5.2)\n",
      "Requirement already satisfied: numpy>=1.24.4 in /home/abrahao/.local/lib/python3.10/site-packages (from fairlearn) (2.0.0)\n",
      "Requirement already satisfied: pandas>=2.0.3 in /home/abrahao/.local/lib/python3.10/site-packages (from fairlearn) (2.2.3)\n",
      "Requirement already satisfied: scipy>=1.9.3 in /home/abrahao/.local/lib/python3.10/site-packages (from fairlearn) (1.14.0)\n",
      "Requirement already satisfied: setuptools in /home/abrahao/.local/lib/python3.10/site-packages (from dalex) (70.0.0)\n",
      "Collecting plotly>=5.1.0\n",
      "  Downloading plotly-5.24.1-py3-none-any.whl (19.1 MB)\n",
      "\u001b[2K     \u001b[38;2;114;156;31m━━━━━━━━━━━━━━━━━━━━━━━━━━━━━━━━━━━━━━━━\u001b[0m \u001b[32m19.1/19.1 MB\u001b[0m \u001b[31m6.3 MB/s\u001b[0m eta \u001b[36m0:00:00\u001b[0mm eta \u001b[36m0:00:01\u001b[0m[36m0:00:01\u001b[0m\n",
      "\u001b[?25hCollecting tqdm>=4.61.2\n",
      "  Downloading tqdm-4.66.5-py3-none-any.whl (78 kB)\n",
      "\u001b[2K     \u001b[38;2;114;156;31m━━━━━━━━━━━━━━━━━━━━━━━━━━━━━━━━━━━━━━━━\u001b[0m \u001b[32m78.4/78.4 KB\u001b[0m \u001b[31m5.3 MB/s\u001b[0m eta \u001b[36m0:00:00\u001b[0m\n",
      "\u001b[?25hRequirement already satisfied: threadpoolctl>=2.0.0 in /home/abrahao/.local/lib/python3.10/site-packages (from imbalanced-learn) (3.5.0)\n",
      "Requirement already satisfied: joblib>=1.1.1 in /home/abrahao/.local/lib/python3.10/site-packages (from imbalanced-learn) (1.4.2)\n",
      "Requirement already satisfied: python-dateutil>=2.8.2 in /home/abrahao/.local/lib/python3.10/site-packages (from pandas>=2.0.3->fairlearn) (2.9.0.post0)\n",
      "Requirement already satisfied: pytz>=2020.1 in /home/abrahao/.local/lib/python3.10/site-packages (from pandas>=2.0.3->fairlearn) (2024.1)\n",
      "Requirement already satisfied: tzdata>=2022.7 in /home/abrahao/.local/lib/python3.10/site-packages (from pandas>=2.0.3->fairlearn) (2024.1)\n",
      "Collecting tenacity>=6.2.0\n",
      "  Downloading tenacity-9.0.0-py3-none-any.whl (28 kB)\n",
      "Requirement already satisfied: packaging in /home/abrahao/.local/lib/python3.10/site-packages (from plotly>=5.1.0->dalex) (24.1)\n",
      "Requirement already satisfied: six>=1.5 in /usr/lib/python3/dist-packages (from python-dateutil>=2.8.2->pandas>=2.0.3->fairlearn) (1.16.0)\n",
      "Building wheels for collected packages: dalex\n",
      "  Building wheel for dalex (setup.py) ... \u001b[?25ldone\n",
      "\u001b[?25h  Created wheel for dalex: filename=dalex-1.7.1-py3-none-any.whl size=1042815 sha256=75b719e34a8f7f9497785fda447fd0cee4b2935b3058297138e96bfb81c91cad\n",
      "  Stored in directory: /home/abrahao/.cache/pip/wheels/fe/c2/41/63e006b3312a4e17299bed5f83d985dea872368f9ab16bb20f\n",
      "Successfully built dalex\n",
      "Installing collected packages: tqdm, tenacity, plotly, imbalanced-learn, fairlearn, dalex\n",
      "Successfully installed dalex-1.7.1 fairlearn-0.10.0 imbalanced-learn-0.12.4 plotly-5.24.1 tenacity-9.0.0 tqdm-4.66.5\n"
     ]
    }
   ],
   "source": [
    "!pip install fairlearn dalex imbalanced-learn"
   ]
  },
  {
   "cell_type": "code",
   "execution_count": 7,
   "id": "2ef78af5-cd38-481d-ae66-5315a34b5e4d",
   "metadata": {},
   "outputs": [],
   "source": [
    "import pandas as pd  # Manipulação de dados\n",
    "import numpy as np  # Operações matemáticas e arrays\n",
    "import dalex as dx  # Explicabilidade de modelos\n",
    "import seaborn as sns  # Visualização de dados, baseado no matplotlib\n",
    "import matplotlib.pyplot as plt  # Visualização de dados\n",
    "\n",
    "# Métricas de justiça\n",
    "from fairlearn.metrics import demographic_parity_difference, equalized_odds_difference, MetricFrame\n",
    "\n",
    "# Ferramentas de modelagem e avaliação\n",
    "from sklearn.model_selection import train_test_split  # Divisão de dados\n",
    "from sklearn.tree import DecisionTreeClassifier  # Classificador árvore de decisão\n",
    "from sklearn.metrics import classification_report, confusion_matrix, accuracy_score, roc_curve, auc  # Métricas de avaliação\n",
    "from sklearn.utils import compute_class_weight, compute_sample_weight  # Cálculo de pesos\n",
    "\n",
    "# Técnicas de balanceamento de dados\n",
    "from imblearn.combine import SMOTEENN  # Combinação de Oversampling e Undersampling\n",
    "from imblearn.under_sampling import RandomUnderSampler  # Undersampling\n",
    "from imblearn.over_sampling import RandomOverSampler  # Oversampling\n",
    "\n",
    "# Utilitários\n",
    "from collections import Counter  # Contagem de elementos\n"
   ]
  },
  {
   "cell_type": "code",
   "execution_count": 8,
   "id": "cbf71c8a-7bb1-4b13-be65-eab2e7c2cb45",
   "metadata": {},
   "outputs": [],
   "source": [
    "# 1. Carregar os dados\n",
    "data = pd.read_csv('dados_aleatorios.csv')"
   ]
  },
  {
   "cell_type": "code",
   "execution_count": 9,
   "id": "58d8529f-d449-4290-855c-92adb6406498",
   "metadata": {},
   "outputs": [
    {
     "name": "stdout",
     "output_type": "stream",
     "text": [
      "Preparation of a new explainer is initiated\n",
      "\n",
      "  -> data              : 800 rows 8 cols\n",
      "  -> target variable   : Parameter 'y' was a pandas.Series. Converted to a numpy.ndarray.\n",
      "  -> target variable   : 800 values\n",
      "  -> model_class       : sklearn.tree._classes.DecisionTreeClassifier (default)\n",
      "  -> label             : Árvore de Decisão\n",
      "  -> predict function  : <function yhat_proba_default at 0x7a8f5c1bf490> will be used (default)\n",
      "  -> predict function  : Accepts pandas.DataFrame and numpy.ndarray.\n",
      "  -> predicted values  : min = 0.0, mean = 0.376, max = 1.0\n",
      "  -> model type        : classification will be used (default)\n",
      "  -> residual function : difference between y and yhat (default)\n",
      "  -> residuals         : min = 0.0, mean = 0.0, max = 0.0\n",
      "  -> model_info        : package sklearn\n",
      "\n",
      "A new explainer has been created!\n"
     ]
    },
    {
     "data": {
      "application/vnd.plotly.v1+json": {
       "config": {
        "displaylogo": false,
        "modeBarButtonsToRemove": [
         "sendDataToCloud",
         "lasso2d",
         "autoScale2d",
         "select2d",
         "zoom2d",
         "pan2d",
         "zoomIn2d",
         "zoomOut2d",
         "resetScale2d",
         "toggleSpikelines",
         "hoverCompareCartesian",
         "hoverClosestCartesian"
        ],
        "plotlyServerURL": "https://plot.ly",
        "staticPlot": false,
        "toImageButtonOptions": {
         "height": null,
         "width": null
        }
       },
       "data": [
        {
         "base": 0,
         "hoverinfo": "text",
         "hoverlabel": {
          "bgcolor": "rgba(0,0,0,0.8)"
         },
         "hovertext": [
          "Model: Árvore de Decisão loss after<br>variable: Frequência is permuted: 0.386<br>Drop-out loss change: +0.386",
          "Model: Árvore de Decisão loss after<br>variable: Renda Familiar is permuted: 0.361<br>Drop-out loss change: +0.361",
          "Model: Árvore de Decisão loss after<br>variable: Média de Notas is permuted: 0.228<br>Drop-out loss change: +0.228",
          "Model: Árvore de Decisão loss after<br>variable: Idade is permuted: 0.156<br>Drop-out loss change: +0.156",
          "Model: Árvore de Decisão loss after<br>variable: Série is permuted: 0.06<br>Drop-out loss change: +0.06",
          "Model: Árvore de Decisão loss after<br>variable: Gênero_Masculino is permuted: 0.059<br>Drop-out loss change: +0.059",
          "Model: Árvore de Decisão loss after<br>variable: Participação em Atividades Extracurriculares_Sim is permuted: 0.034<br>Drop-out loss change: +0.034",
          "Model: Árvore de Decisão loss after<br>variable: Localização_Urbana is permuted: 0.009<br>Drop-out loss change: +0.009"
         ],
         "marker": {
          "color": "#46bac2"
         },
         "orientation": "h",
         "showlegend": false,
         "text": [
          "+0.386",
          "+0.361",
          "+0.228",
          "+0.156",
          "+0.06",
          "+0.059",
          "+0.034",
          "+0.009"
         ],
         "textposition": "outside",
         "type": "bar",
         "x": [
          0.3856167484470603,
          0.36088922030106724,
          0.22800717714498764,
          0.15590949340541554,
          0.059685816816356985,
          0.05921643952356546,
          0.034204288976624364,
          0.00941584165007755
         ],
         "xaxis": "x",
         "y": [
          "Frequência",
          "Renda Familiar",
          "Média de Notas",
          "Idade",
          "Série",
          "Gênero_Masculino",
          "Participação em Atividades Extracurriculares_Sim",
          "Localização_Urbana"
         ],
         "yaxis": "y"
        }
       ],
       "layout": {
        "annotations": [
         {
          "font": {
           "size": 16
          },
          "showarrow": false,
          "text": "Árvore de Decisão",
          "x": 0.5,
          "xanchor": "center",
          "xref": "paper",
          "y": 1,
          "yanchor": "bottom",
          "yref": "paper"
         },
         {
          "font": {
           "size": 16
          },
          "showarrow": false,
          "text": "drop-out loss",
          "x": 0.5,
          "xanchor": "center",
          "xref": "paper",
          "y": 0,
          "yanchor": "top",
          "yref": "paper",
          "yshift": -30
         }
        ],
        "font": {
         "color": "#371ea3"
        },
        "height": 343,
        "margin": {
         "b": 71,
         "r": 30,
         "t": 78
        },
        "shapes": [
         {
          "line": {
           "color": "#371ea3",
           "dash": "dot",
           "width": 1.5
          },
          "type": "line",
          "x0": 0,
          "x1": 0,
          "xref": "x",
          "y0": -1,
          "y1": 8,
          "yref": "y"
         }
        ],
        "template": {
         "data": {
          "scatter": [
           {
            "type": "scatter"
           }
          ]
         }
        },
        "title": {
         "text": "Variable Importance",
         "x": 0.15
        },
        "xaxis": {
         "anchor": "y",
         "automargin": true,
         "domain": [
          0,
          1
         ],
         "fixedrange": true,
         "gridwidth": 2,
         "range": [
          -0.05784251226705904,
          0.44345926071411934
         ],
         "tickcolor": "white",
         "ticklen": 3,
         "ticks": "outside",
         "type": "linear",
         "zeroline": false
        },
        "yaxis": {
         "anchor": "x",
         "automargin": true,
         "autorange": "reversed",
         "domain": [
          0,
          1
         ],
         "fixedrange": true,
         "gridwidth": 2,
         "tickcolor": "white",
         "ticklen": 10,
         "ticks": "outside",
         "type": "category"
        }
       }
      },
      "text/html": [
       "<div>                            <div id=\"c8450f57-a6ec-4a9d-9ddd-3891c9c03b52\" class=\"plotly-graph-div\" style=\"height:343.0px; width:100%;\"></div>            <script type=\"text/javascript\">                require([\"plotly\"], function(Plotly) {                    window.PLOTLYENV=window.PLOTLYENV || {};                                    if (document.getElementById(\"c8450f57-a6ec-4a9d-9ddd-3891c9c03b52\")) {                    Plotly.newPlot(                        \"c8450f57-a6ec-4a9d-9ddd-3891c9c03b52\",                        [{\"base\":0.0,\"hoverinfo\":\"text\",\"hoverlabel\":{\"bgcolor\":\"rgba(0,0,0,0.8)\"},\"hovertext\":[\"Model: \\u00c1rvore de Decis\\u00e3o loss after\\u003cbr\\u003evariable: Frequ\\u00eancia is permuted: 0.386\\u003cbr\\u003eDrop-out loss change: +0.386\",\"Model: \\u00c1rvore de Decis\\u00e3o loss after\\u003cbr\\u003evariable: Renda Familiar is permuted: 0.361\\u003cbr\\u003eDrop-out loss change: +0.361\",\"Model: \\u00c1rvore de Decis\\u00e3o loss after\\u003cbr\\u003evariable: M\\u00e9dia de Notas is permuted: 0.228\\u003cbr\\u003eDrop-out loss change: +0.228\",\"Model: \\u00c1rvore de Decis\\u00e3o loss after\\u003cbr\\u003evariable: Idade is permuted: 0.156\\u003cbr\\u003eDrop-out loss change: +0.156\",\"Model: \\u00c1rvore de Decis\\u00e3o loss after\\u003cbr\\u003evariable: S\\u00e9rie is permuted: 0.06\\u003cbr\\u003eDrop-out loss change: +0.06\",\"Model: \\u00c1rvore de Decis\\u00e3o loss after\\u003cbr\\u003evariable: G\\u00eanero_Masculino is permuted: 0.059\\u003cbr\\u003eDrop-out loss change: +0.059\",\"Model: \\u00c1rvore de Decis\\u00e3o loss after\\u003cbr\\u003evariable: Participa\\u00e7\\u00e3o em Atividades Extracurriculares_Sim is permuted: 0.034\\u003cbr\\u003eDrop-out loss change: +0.034\",\"Model: \\u00c1rvore de Decis\\u00e3o loss after\\u003cbr\\u003evariable: Localiza\\u00e7\\u00e3o_Urbana is permuted: 0.009\\u003cbr\\u003eDrop-out loss change: +0.009\"],\"marker\":{\"color\":\"#46bac2\"},\"orientation\":\"h\",\"showlegend\":false,\"text\":[\"+0.386\",\"+0.361\",\"+0.228\",\"+0.156\",\"+0.06\",\"+0.059\",\"+0.034\",\"+0.009\"],\"textposition\":\"outside\",\"x\":[0.3856167484470603,0.36088922030106724,0.22800717714498764,0.15590949340541554,0.059685816816356985,0.05921643952356546,0.034204288976624364,0.00941584165007755],\"y\":[\"Frequ\\u00eancia\",\"Renda Familiar\",\"M\\u00e9dia de Notas\",\"Idade\",\"S\\u00e9rie\",\"G\\u00eanero_Masculino\",\"Participa\\u00e7\\u00e3o em Atividades Extracurriculares_Sim\",\"Localiza\\u00e7\\u00e3o_Urbana\"],\"type\":\"bar\",\"xaxis\":\"x\",\"yaxis\":\"y\"}],                        {\"template\":{\"data\":{\"scatter\":[{\"type\":\"scatter\"}]}},\"xaxis\":{\"anchor\":\"y\",\"domain\":[0.0,1.0],\"type\":\"linear\",\"gridwidth\":2,\"zeroline\":false,\"automargin\":true,\"ticks\":\"outside\",\"tickcolor\":\"white\",\"ticklen\":3,\"fixedrange\":true,\"range\":[-0.05784251226705904,0.44345926071411934]},\"yaxis\":{\"anchor\":\"x\",\"domain\":[0.0,1.0],\"type\":\"category\",\"autorange\":\"reversed\",\"gridwidth\":2,\"automargin\":true,\"ticks\":\"outside\",\"tickcolor\":\"white\",\"ticklen\":10,\"fixedrange\":true},\"annotations\":[{\"font\":{\"size\":16},\"showarrow\":false,\"text\":\"\\u00c1rvore de Decis\\u00e3o\",\"x\":0.5,\"xanchor\":\"center\",\"xref\":\"paper\",\"y\":1.0,\"yanchor\":\"bottom\",\"yref\":\"paper\"},{\"font\":{\"size\":16},\"showarrow\":false,\"text\":\"drop-out loss\",\"x\":0.5,\"xanchor\":\"center\",\"xref\":\"paper\",\"y\":0,\"yanchor\":\"top\",\"yref\":\"paper\",\"yshift\":-30}],\"shapes\":[{\"line\":{\"color\":\"#371ea3\",\"dash\":\"dot\",\"width\":1.5},\"type\":\"line\",\"x0\":0.0,\"x1\":0.0,\"xref\":\"x\",\"y0\":-1,\"y1\":8,\"yref\":\"y\"}],\"title\":{\"text\":\"Variable Importance\",\"x\":0.15},\"font\":{\"color\":\"#371ea3\"},\"margin\":{\"t\":78,\"b\":71,\"r\":30},\"height\":343.0},                        {\"displaylogo\": false, \"staticPlot\": false, \"toImageButtonOptions\": {\"height\": null, \"width\": null}, \"modeBarButtonsToRemove\": [\"sendDataToCloud\", \"lasso2d\", \"autoScale2d\", \"select2d\", \"zoom2d\", \"pan2d\", \"zoomIn2d\", \"zoomOut2d\", \"resetScale2d\", \"toggleSpikelines\", \"hoverCompareCartesian\", \"hoverClosestCartesian\"], \"responsive\": true}                    ).then(function(){\n",
       "                            \n",
       "var gd = document.getElementById('c8450f57-a6ec-4a9d-9ddd-3891c9c03b52');\n",
       "var x = new MutationObserver(function (mutations, observer) {{\n",
       "        var display = window.getComputedStyle(gd).display;\n",
       "        if (!display || display === 'none') {{\n",
       "            console.log([gd, 'removed!']);\n",
       "            Plotly.purge(gd);\n",
       "            observer.disconnect();\n",
       "        }}\n",
       "}});\n",
       "\n",
       "// Listen for the removal of the full notebook cells\n",
       "var notebookContainer = gd.closest('#notebook-container');\n",
       "if (notebookContainer) {{\n",
       "    x.observe(notebookContainer, {childList: true});\n",
       "}}\n",
       "\n",
       "// Listen for the clearing of the current output cell\n",
       "var outputEl = gd.closest('.output');\n",
       "if (outputEl) {{\n",
       "    x.observe(outputEl, {childList: true});\n",
       "}}\n",
       "\n",
       "                        })                };                });            </script>        </div>"
      ]
     },
     "metadata": {},
     "output_type": "display_data"
    },
    {
     "data": {
      "application/vnd.plotly.v1+json": {
       "config": {
        "displaylogo": false,
        "modeBarButtonsToRemove": [
         "sendDataToCloud",
         "lasso2d",
         "autoScale2d",
         "select2d",
         "zoom2d",
         "pan2d",
         "zoomIn2d",
         "zoomOut2d",
         "resetScale2d",
         "toggleSpikelines",
         "hoverCompareCartesian",
         "hoverClosestCartesian"
        ],
        "plotlyServerURL": "https://plot.ly",
        "staticPlot": false,
        "toImageButtonOptions": {
         "height": null,
         "width": null
        }
       },
       "data": [
        {
         "base": 0.37625,
         "hoverinfo": "text",
         "hoverlabel": {
          "bgcolor": "rgba(0,0,0,0.8)"
         },
         "hovertext": [
          "Average response: 0.376<br>Prediction: 0.0<br>Frequência = 0.642<br>decreases average response <br>by 0.266",
          "Average response: 0.376<br>Prediction: 0.0<br>Gênero_Masculino = 0.0<br>decreases average response <br>by 0.194",
          "Average response: 0.376<br>Prediction: 0.0<br>Média de Notas = 10.0<br>increases average response <br>by 0.086",
          "Average response: 0.376<br>Prediction: 0.0<br>Série = 3.0<br>increases average response <br>by 0.045",
          "Average response: 0.376<br>Prediction: 0.0<br>Renda Familiar = 3966.0<br>decreases average response <br>by 0.03",
          "Average response: 0.376<br>Prediction: 0.0<br>Idade = 16.0<br>decreases average response <br>by 0.026",
          "Average response: 0.376<br>Prediction: 0.0<br>Participação em Atividades Extracurriculares_Sim = 1.0<br>increases average response <br>by 0.013",
          "Average response: 0.376<br>Prediction: 0.0<br>Localização_Urbana = 0.0<br>decreases average response <br>by 0.005"
         ],
         "marker": {
          "color": [
           "#f05a71",
           "#f05a71",
           "#8bdcbe",
           "#8bdcbe",
           "#f05a71",
           "#f05a71",
           "#8bdcbe",
           "#f05a71"
          ]
         },
         "orientation": "h",
         "showlegend": false,
         "text": [
          "-0.266",
          "-0.194",
          "+0.086",
          "+0.045",
          "-0.03",
          "-0.026",
          "+0.013",
          "-0.005"
         ],
         "textposition": "outside",
         "type": "bar",
         "x": [
          -0.266,
          -0.194,
          0.086,
          0.045,
          -0.03,
          -0.026,
          0.013,
          -0.005
         ],
         "xaxis": "x",
         "y": [
          "Frequência = 0.642",
          "Gênero_Masculino = 0.0",
          "Média de Notas = 10.0",
          "Série = 3.0",
          "Renda Familiar = 3966.0",
          "Idade = 16.0",
          "Participação em Atividades Extracurriculares_Sim = 1.0",
          "Localização_Urbana = 0.0"
         ],
         "yaxis": "y"
        }
       ],
       "layout": {
        "annotations": [
         {
          "font": {
           "size": 16
          },
          "showarrow": false,
          "text": "Árvore de Decisão",
          "x": 0.5,
          "xanchor": "center",
          "xref": "paper",
          "y": 1,
          "yanchor": "bottom",
          "yref": "paper"
         },
         {
          "font": {
           "size": 16
          },
          "showarrow": false,
          "text": "contribution",
          "x": 0.5,
          "xanchor": "center",
          "xref": "paper",
          "y": 0,
          "yanchor": "top",
          "yref": "paper",
          "yshift": -30
         }
        ],
        "font": {
         "color": "#371ea3"
        },
        "height": 313,
        "margin": {
         "b": 71,
         "r": 30,
         "t": 78
        },
        "shapes": [
         {
          "line": {
           "color": "#371ea3",
           "dash": "dot",
           "width": 1.5
          },
          "type": "line",
          "x0": 0.37625,
          "x1": 0.37625,
          "xref": "x",
          "y0": -1,
          "y1": 8,
          "yref": "y"
         }
        ],
        "template": {
         "data": {
          "scatter": [
           {
            "type": "scatter"
           }
          ]
         }
        },
        "title": {
         "text": "Shapley Values",
         "x": 0.15
        },
        "xaxis": {
         "anchor": "y",
         "automargin": true,
         "domain": [
          0,
          1
         ],
         "fixedrange": true,
         "gridwidth": 2,
         "range": [
          0.057449999999999966,
          0.5150499999999999
         ],
         "tickcolor": "white",
         "ticklen": 3,
         "ticks": "outside",
         "type": "linear",
         "zeroline": false
        },
        "yaxis": {
         "anchor": "x",
         "automargin": true,
         "autorange": "reversed",
         "domain": [
          0,
          1
         ],
         "fixedrange": true,
         "gridwidth": 2,
         "tickcolor": "white",
         "ticklen": 10,
         "ticks": "outside",
         "type": "category"
        }
       }
      },
      "text/html": [
       "<div>                            <div id=\"4aefd594-e7cf-491f-aecd-d7e7900beda6\" class=\"plotly-graph-div\" style=\"height:313.0px; width:100%;\"></div>            <script type=\"text/javascript\">                require([\"plotly\"], function(Plotly) {                    window.PLOTLYENV=window.PLOTLYENV || {};                                    if (document.getElementById(\"4aefd594-e7cf-491f-aecd-d7e7900beda6\")) {                    Plotly.newPlot(                        \"4aefd594-e7cf-491f-aecd-d7e7900beda6\",                        [{\"base\":0.37625,\"hoverinfo\":\"text\",\"hoverlabel\":{\"bgcolor\":\"rgba(0,0,0,0.8)\"},\"hovertext\":[\"Average response: 0.376\\u003cbr\\u003ePrediction: 0.0\\u003cbr\\u003eFrequ\\u00eancia = 0.642\\u003cbr\\u003edecreases average response \\u003cbr\\u003eby 0.266\",\"Average response: 0.376\\u003cbr\\u003ePrediction: 0.0\\u003cbr\\u003eG\\u00eanero_Masculino = 0.0\\u003cbr\\u003edecreases average response \\u003cbr\\u003eby 0.194\",\"Average response: 0.376\\u003cbr\\u003ePrediction: 0.0\\u003cbr\\u003eM\\u00e9dia de Notas = 10.0\\u003cbr\\u003eincreases average response \\u003cbr\\u003eby 0.086\",\"Average response: 0.376\\u003cbr\\u003ePrediction: 0.0\\u003cbr\\u003eS\\u00e9rie = 3.0\\u003cbr\\u003eincreases average response \\u003cbr\\u003eby 0.045\",\"Average response: 0.376\\u003cbr\\u003ePrediction: 0.0\\u003cbr\\u003eRenda Familiar = 3966.0\\u003cbr\\u003edecreases average response \\u003cbr\\u003eby 0.03\",\"Average response: 0.376\\u003cbr\\u003ePrediction: 0.0\\u003cbr\\u003eIdade = 16.0\\u003cbr\\u003edecreases average response \\u003cbr\\u003eby 0.026\",\"Average response: 0.376\\u003cbr\\u003ePrediction: 0.0\\u003cbr\\u003eParticipa\\u00e7\\u00e3o em Atividades Extracurriculares_Sim = 1.0\\u003cbr\\u003eincreases average response \\u003cbr\\u003eby 0.013\",\"Average response: 0.376\\u003cbr\\u003ePrediction: 0.0\\u003cbr\\u003eLocaliza\\u00e7\\u00e3o_Urbana = 0.0\\u003cbr\\u003edecreases average response \\u003cbr\\u003eby 0.005\"],\"marker\":{\"color\":[\"#f05a71\",\"#f05a71\",\"#8bdcbe\",\"#8bdcbe\",\"#f05a71\",\"#f05a71\",\"#8bdcbe\",\"#f05a71\"]},\"orientation\":\"h\",\"showlegend\":false,\"text\":[\"-0.266\",\"-0.194\",\"+0.086\",\"+0.045\",\"-0.03\",\"-0.026\",\"+0.013\",\"-0.005\"],\"textposition\":\"outside\",\"x\":[-0.266,-0.194,0.086,0.045,-0.03,-0.026,0.013,-0.005],\"y\":[\"Frequ\\u00eancia = 0.642\",\"G\\u00eanero_Masculino = 0.0\",\"M\\u00e9dia de Notas = 10.0\",\"S\\u00e9rie = 3.0\",\"Renda Familiar = 3966.0\",\"Idade = 16.0\",\"Participa\\u00e7\\u00e3o em Atividades Extracurriculares_Sim = 1.0\",\"Localiza\\u00e7\\u00e3o_Urbana = 0.0\"],\"type\":\"bar\",\"xaxis\":\"x\",\"yaxis\":\"y\"}],                        {\"template\":{\"data\":{\"scatter\":[{\"type\":\"scatter\"}]}},\"xaxis\":{\"anchor\":\"y\",\"domain\":[0.0,1.0],\"type\":\"linear\",\"gridwidth\":2,\"zeroline\":false,\"automargin\":true,\"ticks\":\"outside\",\"tickcolor\":\"white\",\"ticklen\":3,\"fixedrange\":true,\"range\":[0.057449999999999966,0.5150499999999999]},\"yaxis\":{\"anchor\":\"x\",\"domain\":[0.0,1.0],\"type\":\"category\",\"autorange\":\"reversed\",\"gridwidth\":2,\"automargin\":true,\"ticks\":\"outside\",\"tickcolor\":\"white\",\"ticklen\":10,\"fixedrange\":true},\"annotations\":[{\"font\":{\"size\":16},\"showarrow\":false,\"text\":\"\\u00c1rvore de Decis\\u00e3o\",\"x\":0.5,\"xanchor\":\"center\",\"xref\":\"paper\",\"y\":1.0,\"yanchor\":\"bottom\",\"yref\":\"paper\"},{\"font\":{\"size\":16},\"showarrow\":false,\"text\":\"contribution\",\"x\":0.5,\"xanchor\":\"center\",\"xref\":\"paper\",\"y\":0,\"yanchor\":\"top\",\"yref\":\"paper\",\"yshift\":-30}],\"shapes\":[{\"line\":{\"color\":\"#371ea3\",\"dash\":\"dot\",\"width\":1.5},\"type\":\"line\",\"x0\":0.37625,\"x1\":0.37625,\"xref\":\"x\",\"y0\":-1,\"y1\":8,\"yref\":\"y\"}],\"title\":{\"text\":\"Shapley Values\",\"x\":0.15},\"font\":{\"color\":\"#371ea3\"},\"margin\":{\"t\":78,\"b\":71,\"r\":30},\"height\":313.0},                        {\"displaylogo\": false, \"staticPlot\": false, \"toImageButtonOptions\": {\"height\": null, \"width\": null}, \"modeBarButtonsToRemove\": [\"sendDataToCloud\", \"lasso2d\", \"autoScale2d\", \"select2d\", \"zoom2d\", \"pan2d\", \"zoomIn2d\", \"zoomOut2d\", \"resetScale2d\", \"toggleSpikelines\", \"hoverCompareCartesian\", \"hoverClosestCartesian\"], \"responsive\": true}                    ).then(function(){\n",
       "                            \n",
       "var gd = document.getElementById('4aefd594-e7cf-491f-aecd-d7e7900beda6');\n",
       "var x = new MutationObserver(function (mutations, observer) {{\n",
       "        var display = window.getComputedStyle(gd).display;\n",
       "        if (!display || display === 'none') {{\n",
       "            console.log([gd, 'removed!']);\n",
       "            Plotly.purge(gd);\n",
       "            observer.disconnect();\n",
       "        }}\n",
       "}});\n",
       "\n",
       "// Listen for the removal of the full notebook cells\n",
       "var notebookContainer = gd.closest('#notebook-container');\n",
       "if (notebookContainer) {{\n",
       "    x.observe(notebookContainer, {childList: true});\n",
       "}}\n",
       "\n",
       "// Listen for the clearing of the current output cell\n",
       "var outputEl = gd.closest('.output');\n",
       "if (outputEl) {{\n",
       "    x.observe(outputEl, {childList: true});\n",
       "}}\n",
       "\n",
       "                        })                };                });            </script>        </div>"
      ]
     },
     "metadata": {},
     "output_type": "display_data"
    },
    {
     "name": "stdout",
     "output_type": "stream",
     "text": [
      "Acurácia do modelo: 0.51\n",
      "\n",
      "Matriz de confusão\n",
      "[[76 55]\n",
      " [43 26]]\n",
      "                  accuracy\n",
      "Gênero_Masculino          \n",
      "False             0.509804\n",
      "True              0.510204\n",
      "Diferença de Paridade Demográfica: 0.154\n",
      "Diferença de Probabilidades Igualadas: 0.221\n"
     ]
    }
   ],
   "source": [
    "# 2. Criar a variável alvo 'Evasao'\n",
    "data['Evasao'] = data['Motivo da Evasão'].apply(lambda x: 1 if x != '0' else 0)\n",
    "\n",
    "# 3. Selecionar as características (X) e a variável alvo (y)\n",
    "features = ['Idade', 'Gênero', 'Série', 'Média de Notas', 'Frequência', 'Participação em Atividades Extracurriculares', 'Renda Familiar', 'Localização']\n",
    "X = data[features]\n",
    "y = data['Evasao']\n",
    "\n",
    "# 4. Converter a coluna 'Frequência' para float, lidando com valores não string\n",
    "X['Frequência'] = X['Frequência'].apply(lambda x: str(x).replace('%', '')).astype(float) / 100\n",
    "\n",
    "# 5. Converter variáveis categóricas em numéricas\n",
    "X = pd.get_dummies(X, drop_first=True)\n",
    "\n",
    "# 6. Dividir os dados em conjuntos de treinamento e teste\n",
    "X_train, X_test, y_train, y_test = train_test_split(X, y, test_size=0.2, random_state=42)\n",
    "\n",
    "# 7. Treinar o modelo de árvore de decisão\n",
    "model = DecisionTreeClassifier(random_state=42)\n",
    "model.fit(X_train, y_train)\n",
    "\n",
    "# 8. Fazer previsões\n",
    "y_pred = model.predict(X_test)\n",
    "\n",
    "# 10. Criar objeto DALEX para interpretação\n",
    "explainer = dx.Explainer(model, X_train, y_train, label=\"Árvore de Decisão\")\n",
    "\n",
    "# 11. Análise de importância das variáveis\n",
    "importance = explainer.model_parts()\n",
    "importance.plot()\n",
    "\n",
    "# 12. Análise de explicações individuais\n",
    "individual_explanation = explainer.predict_parts(X_test.iloc[[0]], type='shap')\n",
    "individual_explanation.plot()\n",
    "\n",
    "# 9. Avaliar o modelo\n",
    "accuracy = accuracy_score(y_test, y_pred)\n",
    "print(f'Acurácia do modelo: {accuracy:.2f}')\n",
    "\n",
    "# 13. Visualizar a matriz de confusão\n",
    "confusion = confusion_matrix(y_test, y_pred)\n",
    "print(\"\\nMatriz de confusão\")\n",
    "print(confusion)\n",
    "#plt.figure(figsize=(8, 6))\n",
    "#sns.heatmap(confusion, annot=True, fmt='d', cmap='Blues', xticklabels=['Não Evadiu', 'Evadiu'], yticklabels=['Não Evadiu', 'Evadiu'])\n",
    "#plt.ylabel('Real')\n",
    "#plt.xlabel('Previsto')\n",
    "#plt.title('Matriz de Confusão')\n",
    "#plt.show()\n",
    "\n",
    "# 14. Análise de viés preditivo\n",
    "# Calcular as métricas de viés\n",
    "sensitive_features = X_test[[col for col in X_test.columns if 'Gênero' in col]]\n",
    "metric_frame = MetricFrame(metrics={\"accuracy\": accuracy_score}, y_true=y_test, y_pred=y_pred, sensitive_features=sensitive_features)\n",
    "\n",
    "# Exibir a análise de viés\n",
    "print(metric_frame.by_group)\n",
    "\n",
    "# Calcular e imprimir diferenças de equidade\n",
    "demographic_parity = demographic_parity_difference(y_true=y_test, y_pred=y_pred, sensitive_features=sensitive_features)\n",
    "equalized_odds = equalized_odds_difference(y_true=y_test, y_pred=y_pred, sensitive_features=sensitive_features)\n",
    "print(f'Diferença de Paridade Demográfica: {demographic_parity:.3f}')\n",
    "print(f'Diferença de Probabilidades Igualadas: {equalized_odds:.3f}')\n"
   ]
  },
  {
   "cell_type": "code",
   "execution_count": null,
   "id": "f7fc15c2-24ee-40f4-a50d-904e1b25e9a2",
   "metadata": {},
   "outputs": [],
   "source": []
  },
  {
   "cell_type": "code",
   "execution_count": 10,
   "id": "9968123b-e1b5-4b8b-95de-c559fec0432d",
   "metadata": {},
   "outputs": [
    {
     "ename": "ValueError",
     "evalue": "could not convert string to float: '73.6%'",
     "output_type": "error",
     "traceback": [
      "\u001b[0;31m---------------------------------------------------------------------------\u001b[0m",
      "\u001b[0;31mValueError\u001b[0m                                Traceback (most recent call last)",
      "\u001b[0;32m/tmp/ipykernel_22657/301446194.py\u001b[0m in \u001b[0;36m?\u001b[0;34m()\u001b[0m\n\u001b[1;32m     27\u001b[0m \u001b[0mweights\u001b[0m \u001b[0;34m=\u001b[0m \u001b[0mX_train\u001b[0m\u001b[0;34m[\u001b[0m\u001b[0msensitive_feature\u001b[0m\u001b[0;34m]\u001b[0m\u001b[0;34m.\u001b[0m\u001b[0mmap\u001b[0m\u001b[0;34m(\u001b[0m\u001b[0mgroup_weights\u001b[0m\u001b[0;34m)\u001b[0m\u001b[0;34m\u001b[0m\u001b[0;34m\u001b[0m\u001b[0m\n\u001b[1;32m     28\u001b[0m \u001b[0;34m\u001b[0m\u001b[0m\n\u001b[1;32m     29\u001b[0m \u001b[0;31m# Train a Decision Tree using sample weights\u001b[0m\u001b[0;34m\u001b[0m\u001b[0;34m\u001b[0m\u001b[0m\n\u001b[1;32m     30\u001b[0m \u001b[0mmodel\u001b[0m \u001b[0;34m=\u001b[0m \u001b[0mDecisionTreeClassifier\u001b[0m\u001b[0;34m(\u001b[0m\u001b[0mrandom_state\u001b[0m\u001b[0;34m=\u001b[0m\u001b[0;36m42\u001b[0m\u001b[0;34m)\u001b[0m\u001b[0;34m\u001b[0m\u001b[0;34m\u001b[0m\u001b[0m\n\u001b[0;32m---> 31\u001b[0;31m \u001b[0mmodel\u001b[0m\u001b[0;34m.\u001b[0m\u001b[0mfit\u001b[0m\u001b[0;34m(\u001b[0m\u001b[0mX_train\u001b[0m\u001b[0;34m,\u001b[0m \u001b[0my_train\u001b[0m\u001b[0;34m,\u001b[0m \u001b[0msample_weight\u001b[0m\u001b[0;34m=\u001b[0m\u001b[0mweights\u001b[0m\u001b[0;34m)\u001b[0m\u001b[0;34m\u001b[0m\u001b[0;34m\u001b[0m\u001b[0m\n\u001b[0m\u001b[1;32m     32\u001b[0m \u001b[0;34m\u001b[0m\u001b[0m\n\u001b[1;32m     33\u001b[0m \u001b[0;31m# Predictions and evaluation\u001b[0m\u001b[0;34m\u001b[0m\u001b[0;34m\u001b[0m\u001b[0m\n\u001b[1;32m     34\u001b[0m \u001b[0my_pred\u001b[0m \u001b[0;34m=\u001b[0m \u001b[0mmodel\u001b[0m\u001b[0;34m.\u001b[0m\u001b[0mpredict\u001b[0m\u001b[0;34m(\u001b[0m\u001b[0mX_test\u001b[0m\u001b[0;34m)\u001b[0m\u001b[0;34m\u001b[0m\u001b[0;34m\u001b[0m\u001b[0m\n",
      "\u001b[0;32m~/.local/lib/python3.10/site-packages/sklearn/base.py\u001b[0m in \u001b[0;36m?\u001b[0;34m(estimator, *args, **kwargs)\u001b[0m\n\u001b[1;32m   1469\u001b[0m                 skip_parameter_validation=(\n\u001b[1;32m   1470\u001b[0m                     \u001b[0mprefer_skip_nested_validation\u001b[0m \u001b[0;32mor\u001b[0m \u001b[0mglobal_skip_validation\u001b[0m\u001b[0;34m\u001b[0m\u001b[0;34m\u001b[0m\u001b[0m\n\u001b[1;32m   1471\u001b[0m                 )\n\u001b[1;32m   1472\u001b[0m             ):\n\u001b[0;32m-> 1473\u001b[0;31m                 \u001b[0;32mreturn\u001b[0m \u001b[0mfit_method\u001b[0m\u001b[0;34m(\u001b[0m\u001b[0mestimator\u001b[0m\u001b[0;34m,\u001b[0m \u001b[0;34m*\u001b[0m\u001b[0margs\u001b[0m\u001b[0;34m,\u001b[0m \u001b[0;34m**\u001b[0m\u001b[0mkwargs\u001b[0m\u001b[0;34m)\u001b[0m\u001b[0;34m\u001b[0m\u001b[0;34m\u001b[0m\u001b[0m\n\u001b[0m",
      "\u001b[0;32m~/.local/lib/python3.10/site-packages/sklearn/tree/_classes.py\u001b[0m in \u001b[0;36m?\u001b[0;34m(self, X, y, sample_weight, check_input)\u001b[0m\n\u001b[1;32m   1005\u001b[0m         \u001b[0mself\u001b[0m \u001b[0;34m:\u001b[0m \u001b[0mDecisionTreeClassifier\u001b[0m\u001b[0;34m\u001b[0m\u001b[0;34m\u001b[0m\u001b[0m\n\u001b[1;32m   1006\u001b[0m             \u001b[0mFitted\u001b[0m \u001b[0mestimator\u001b[0m\u001b[0;34m.\u001b[0m\u001b[0;34m\u001b[0m\u001b[0;34m\u001b[0m\u001b[0m\n\u001b[1;32m   1007\u001b[0m         \"\"\"\n\u001b[1;32m   1008\u001b[0m \u001b[0;34m\u001b[0m\u001b[0m\n\u001b[0;32m-> 1009\u001b[0;31m         super()._fit(\n\u001b[0m\u001b[1;32m   1010\u001b[0m             \u001b[0mX\u001b[0m\u001b[0;34m,\u001b[0m\u001b[0;34m\u001b[0m\u001b[0;34m\u001b[0m\u001b[0m\n\u001b[1;32m   1011\u001b[0m             \u001b[0my\u001b[0m\u001b[0;34m,\u001b[0m\u001b[0;34m\u001b[0m\u001b[0;34m\u001b[0m\u001b[0m\n\u001b[1;32m   1012\u001b[0m             \u001b[0msample_weight\u001b[0m\u001b[0;34m=\u001b[0m\u001b[0msample_weight\u001b[0m\u001b[0;34m,\u001b[0m\u001b[0;34m\u001b[0m\u001b[0;34m\u001b[0m\u001b[0m\n",
      "\u001b[0;32m~/.local/lib/python3.10/site-packages/sklearn/tree/_classes.py\u001b[0m in \u001b[0;36m?\u001b[0;34m(self, X, y, sample_weight, check_input, missing_values_in_feature_mask)\u001b[0m\n\u001b[1;32m    248\u001b[0m             check_X_params = dict(\n\u001b[1;32m    249\u001b[0m                 \u001b[0mdtype\u001b[0m\u001b[0;34m=\u001b[0m\u001b[0mDTYPE\u001b[0m\u001b[0;34m,\u001b[0m \u001b[0maccept_sparse\u001b[0m\u001b[0;34m=\u001b[0m\u001b[0;34m\"csc\"\u001b[0m\u001b[0;34m,\u001b[0m \u001b[0mforce_all_finite\u001b[0m\u001b[0;34m=\u001b[0m\u001b[0;32mFalse\u001b[0m\u001b[0;34m\u001b[0m\u001b[0;34m\u001b[0m\u001b[0m\n\u001b[1;32m    250\u001b[0m             )\n\u001b[1;32m    251\u001b[0m             \u001b[0mcheck_y_params\u001b[0m \u001b[0;34m=\u001b[0m \u001b[0mdict\u001b[0m\u001b[0;34m(\u001b[0m\u001b[0mensure_2d\u001b[0m\u001b[0;34m=\u001b[0m\u001b[0;32mFalse\u001b[0m\u001b[0;34m,\u001b[0m \u001b[0mdtype\u001b[0m\u001b[0;34m=\u001b[0m\u001b[0;32mNone\u001b[0m\u001b[0;34m)\u001b[0m\u001b[0;34m\u001b[0m\u001b[0;34m\u001b[0m\u001b[0m\n\u001b[0;32m--> 252\u001b[0;31m             X, y = self._validate_data(\n\u001b[0m\u001b[1;32m    253\u001b[0m                 \u001b[0mX\u001b[0m\u001b[0;34m,\u001b[0m \u001b[0my\u001b[0m\u001b[0;34m,\u001b[0m \u001b[0mvalidate_separately\u001b[0m\u001b[0;34m=\u001b[0m\u001b[0;34m(\u001b[0m\u001b[0mcheck_X_params\u001b[0m\u001b[0;34m,\u001b[0m \u001b[0mcheck_y_params\u001b[0m\u001b[0;34m)\u001b[0m\u001b[0;34m\u001b[0m\u001b[0;34m\u001b[0m\u001b[0m\n\u001b[1;32m    254\u001b[0m             )\n\u001b[1;32m    255\u001b[0m \u001b[0;34m\u001b[0m\u001b[0m\n",
      "\u001b[0;32m~/.local/lib/python3.10/site-packages/sklearn/base.py\u001b[0m in \u001b[0;36m?\u001b[0;34m(self, X, y, reset, validate_separately, cast_to_ndarray, **check_params)\u001b[0m\n\u001b[1;32m    641\u001b[0m                 \u001b[0;31m# :(\u001b[0m\u001b[0;34m\u001b[0m\u001b[0;34m\u001b[0m\u001b[0m\n\u001b[1;32m    642\u001b[0m                 \u001b[0mcheck_X_params\u001b[0m\u001b[0;34m,\u001b[0m \u001b[0mcheck_y_params\u001b[0m \u001b[0;34m=\u001b[0m \u001b[0mvalidate_separately\u001b[0m\u001b[0;34m\u001b[0m\u001b[0;34m\u001b[0m\u001b[0m\n\u001b[1;32m    643\u001b[0m                 \u001b[0;32mif\u001b[0m \u001b[0;34m\"estimator\"\u001b[0m \u001b[0;32mnot\u001b[0m \u001b[0;32min\u001b[0m \u001b[0mcheck_X_params\u001b[0m\u001b[0;34m:\u001b[0m\u001b[0;34m\u001b[0m\u001b[0;34m\u001b[0m\u001b[0m\n\u001b[1;32m    644\u001b[0m                     \u001b[0mcheck_X_params\u001b[0m \u001b[0;34m=\u001b[0m \u001b[0;34m{\u001b[0m\u001b[0;34m**\u001b[0m\u001b[0mdefault_check_params\u001b[0m\u001b[0;34m,\u001b[0m \u001b[0;34m**\u001b[0m\u001b[0mcheck_X_params\u001b[0m\u001b[0;34m}\u001b[0m\u001b[0;34m\u001b[0m\u001b[0;34m\u001b[0m\u001b[0m\n\u001b[0;32m--> 645\u001b[0;31m                 \u001b[0mX\u001b[0m \u001b[0;34m=\u001b[0m \u001b[0mcheck_array\u001b[0m\u001b[0;34m(\u001b[0m\u001b[0mX\u001b[0m\u001b[0;34m,\u001b[0m \u001b[0minput_name\u001b[0m\u001b[0;34m=\u001b[0m\u001b[0;34m\"X\"\u001b[0m\u001b[0;34m,\u001b[0m \u001b[0;34m**\u001b[0m\u001b[0mcheck_X_params\u001b[0m\u001b[0;34m)\u001b[0m\u001b[0;34m\u001b[0m\u001b[0;34m\u001b[0m\u001b[0m\n\u001b[0m\u001b[1;32m    646\u001b[0m                 \u001b[0;32mif\u001b[0m \u001b[0;34m\"estimator\"\u001b[0m \u001b[0;32mnot\u001b[0m \u001b[0;32min\u001b[0m \u001b[0mcheck_y_params\u001b[0m\u001b[0;34m:\u001b[0m\u001b[0;34m\u001b[0m\u001b[0;34m\u001b[0m\u001b[0m\n\u001b[1;32m    647\u001b[0m                     \u001b[0mcheck_y_params\u001b[0m \u001b[0;34m=\u001b[0m \u001b[0;34m{\u001b[0m\u001b[0;34m**\u001b[0m\u001b[0mdefault_check_params\u001b[0m\u001b[0;34m,\u001b[0m \u001b[0;34m**\u001b[0m\u001b[0mcheck_y_params\u001b[0m\u001b[0;34m}\u001b[0m\u001b[0;34m\u001b[0m\u001b[0;34m\u001b[0m\u001b[0m\n\u001b[1;32m    648\u001b[0m                 \u001b[0my\u001b[0m \u001b[0;34m=\u001b[0m \u001b[0mcheck_array\u001b[0m\u001b[0;34m(\u001b[0m\u001b[0my\u001b[0m\u001b[0;34m,\u001b[0m \u001b[0minput_name\u001b[0m\u001b[0;34m=\u001b[0m\u001b[0;34m\"y\"\u001b[0m\u001b[0;34m,\u001b[0m \u001b[0;34m**\u001b[0m\u001b[0mcheck_y_params\u001b[0m\u001b[0;34m)\u001b[0m\u001b[0;34m\u001b[0m\u001b[0;34m\u001b[0m\u001b[0m\n",
      "\u001b[0;32m~/.local/lib/python3.10/site-packages/sklearn/utils/validation.py\u001b[0m in \u001b[0;36m?\u001b[0;34m(array, accept_sparse, accept_large_sparse, dtype, order, copy, force_writeable, force_all_finite, ensure_2d, allow_nd, ensure_min_samples, ensure_min_features, estimator, input_name)\u001b[0m\n\u001b[1;32m   1009\u001b[0m                         )\n\u001b[1;32m   1010\u001b[0m                     \u001b[0marray\u001b[0m \u001b[0;34m=\u001b[0m \u001b[0mxp\u001b[0m\u001b[0;34m.\u001b[0m\u001b[0mastype\u001b[0m\u001b[0;34m(\u001b[0m\u001b[0marray\u001b[0m\u001b[0;34m,\u001b[0m \u001b[0mdtype\u001b[0m\u001b[0;34m,\u001b[0m \u001b[0mcopy\u001b[0m\u001b[0;34m=\u001b[0m\u001b[0;32mFalse\u001b[0m\u001b[0;34m)\u001b[0m\u001b[0;34m\u001b[0m\u001b[0;34m\u001b[0m\u001b[0m\n\u001b[1;32m   1011\u001b[0m                 \u001b[0;32melse\u001b[0m\u001b[0;34m:\u001b[0m\u001b[0;34m\u001b[0m\u001b[0;34m\u001b[0m\u001b[0m\n\u001b[1;32m   1012\u001b[0m                     \u001b[0marray\u001b[0m \u001b[0;34m=\u001b[0m \u001b[0m_asarray_with_order\u001b[0m\u001b[0;34m(\u001b[0m\u001b[0marray\u001b[0m\u001b[0;34m,\u001b[0m \u001b[0morder\u001b[0m\u001b[0;34m=\u001b[0m\u001b[0morder\u001b[0m\u001b[0;34m,\u001b[0m \u001b[0mdtype\u001b[0m\u001b[0;34m=\u001b[0m\u001b[0mdtype\u001b[0m\u001b[0;34m,\u001b[0m \u001b[0mxp\u001b[0m\u001b[0;34m=\u001b[0m\u001b[0mxp\u001b[0m\u001b[0;34m)\u001b[0m\u001b[0;34m\u001b[0m\u001b[0;34m\u001b[0m\u001b[0m\n\u001b[0;32m-> 1013\u001b[0;31m             \u001b[0;32mexcept\u001b[0m \u001b[0mComplexWarning\u001b[0m \u001b[0;32mas\u001b[0m \u001b[0mcomplex_warning\u001b[0m\u001b[0;34m:\u001b[0m\u001b[0;34m\u001b[0m\u001b[0;34m\u001b[0m\u001b[0m\n\u001b[0m\u001b[1;32m   1014\u001b[0m                 raise ValueError(\n\u001b[1;32m   1015\u001b[0m                     \u001b[0;34m\"Complex data not supported\\n{}\\n\"\u001b[0m\u001b[0;34m.\u001b[0m\u001b[0mformat\u001b[0m\u001b[0;34m(\u001b[0m\u001b[0marray\u001b[0m\u001b[0;34m)\u001b[0m\u001b[0;34m\u001b[0m\u001b[0;34m\u001b[0m\u001b[0m\n\u001b[1;32m   1016\u001b[0m                 ) from complex_warning\n",
      "\u001b[0;32m~/.local/lib/python3.10/site-packages/sklearn/utils/_array_api.py\u001b[0m in \u001b[0;36m?\u001b[0;34m(array, dtype, order, copy, xp, device)\u001b[0m\n\u001b[1;32m    741\u001b[0m         \u001b[0;31m# Use NumPy API to support order\u001b[0m\u001b[0;34m\u001b[0m\u001b[0;34m\u001b[0m\u001b[0m\n\u001b[1;32m    742\u001b[0m         \u001b[0;32mif\u001b[0m \u001b[0mcopy\u001b[0m \u001b[0;32mis\u001b[0m \u001b[0;32mTrue\u001b[0m\u001b[0;34m:\u001b[0m\u001b[0;34m\u001b[0m\u001b[0;34m\u001b[0m\u001b[0m\n\u001b[1;32m    743\u001b[0m             \u001b[0marray\u001b[0m \u001b[0;34m=\u001b[0m \u001b[0mnumpy\u001b[0m\u001b[0;34m.\u001b[0m\u001b[0marray\u001b[0m\u001b[0;34m(\u001b[0m\u001b[0marray\u001b[0m\u001b[0;34m,\u001b[0m \u001b[0morder\u001b[0m\u001b[0;34m=\u001b[0m\u001b[0morder\u001b[0m\u001b[0;34m,\u001b[0m \u001b[0mdtype\u001b[0m\u001b[0;34m=\u001b[0m\u001b[0mdtype\u001b[0m\u001b[0;34m)\u001b[0m\u001b[0;34m\u001b[0m\u001b[0;34m\u001b[0m\u001b[0m\n\u001b[1;32m    744\u001b[0m         \u001b[0;32melse\u001b[0m\u001b[0;34m:\u001b[0m\u001b[0;34m\u001b[0m\u001b[0;34m\u001b[0m\u001b[0m\n\u001b[0;32m--> 745\u001b[0;31m             \u001b[0marray\u001b[0m \u001b[0;34m=\u001b[0m \u001b[0mnumpy\u001b[0m\u001b[0;34m.\u001b[0m\u001b[0masarray\u001b[0m\u001b[0;34m(\u001b[0m\u001b[0marray\u001b[0m\u001b[0;34m,\u001b[0m \u001b[0morder\u001b[0m\u001b[0;34m=\u001b[0m\u001b[0morder\u001b[0m\u001b[0;34m,\u001b[0m \u001b[0mdtype\u001b[0m\u001b[0;34m=\u001b[0m\u001b[0mdtype\u001b[0m\u001b[0;34m)\u001b[0m\u001b[0;34m\u001b[0m\u001b[0;34m\u001b[0m\u001b[0m\n\u001b[0m\u001b[1;32m    746\u001b[0m \u001b[0;34m\u001b[0m\u001b[0m\n\u001b[1;32m    747\u001b[0m         \u001b[0;31m# At this point array is a NumPy ndarray. We convert it to an array\u001b[0m\u001b[0;34m\u001b[0m\u001b[0;34m\u001b[0m\u001b[0m\n\u001b[1;32m    748\u001b[0m         \u001b[0;31m# container that is consistent with the input's namespace.\u001b[0m\u001b[0;34m\u001b[0m\u001b[0;34m\u001b[0m\u001b[0m\n",
      "\u001b[0;32m~/.local/lib/python3.10/site-packages/pandas/core/generic.py\u001b[0m in \u001b[0;36m?\u001b[0;34m(self, dtype, copy)\u001b[0m\n\u001b[1;32m   2149\u001b[0m     def __array__(\n\u001b[1;32m   2150\u001b[0m         \u001b[0mself\u001b[0m\u001b[0;34m,\u001b[0m \u001b[0mdtype\u001b[0m\u001b[0;34m:\u001b[0m \u001b[0mnpt\u001b[0m\u001b[0;34m.\u001b[0m\u001b[0mDTypeLike\u001b[0m \u001b[0;34m|\u001b[0m \u001b[0;32mNone\u001b[0m \u001b[0;34m=\u001b[0m \u001b[0;32mNone\u001b[0m\u001b[0;34m,\u001b[0m \u001b[0mcopy\u001b[0m\u001b[0;34m:\u001b[0m \u001b[0mbool_t\u001b[0m \u001b[0;34m|\u001b[0m \u001b[0;32mNone\u001b[0m \u001b[0;34m=\u001b[0m \u001b[0;32mNone\u001b[0m\u001b[0;34m\u001b[0m\u001b[0;34m\u001b[0m\u001b[0m\n\u001b[1;32m   2151\u001b[0m     ) -> np.ndarray:\n\u001b[1;32m   2152\u001b[0m         \u001b[0mvalues\u001b[0m \u001b[0;34m=\u001b[0m \u001b[0mself\u001b[0m\u001b[0;34m.\u001b[0m\u001b[0m_values\u001b[0m\u001b[0;34m\u001b[0m\u001b[0;34m\u001b[0m\u001b[0m\n\u001b[0;32m-> 2153\u001b[0;31m         \u001b[0marr\u001b[0m \u001b[0;34m=\u001b[0m \u001b[0mnp\u001b[0m\u001b[0;34m.\u001b[0m\u001b[0masarray\u001b[0m\u001b[0;34m(\u001b[0m\u001b[0mvalues\u001b[0m\u001b[0;34m,\u001b[0m \u001b[0mdtype\u001b[0m\u001b[0;34m=\u001b[0m\u001b[0mdtype\u001b[0m\u001b[0;34m)\u001b[0m\u001b[0;34m\u001b[0m\u001b[0;34m\u001b[0m\u001b[0m\n\u001b[0m\u001b[1;32m   2154\u001b[0m         if (\n\u001b[1;32m   2155\u001b[0m             \u001b[0mastype_is_view\u001b[0m\u001b[0;34m(\u001b[0m\u001b[0mvalues\u001b[0m\u001b[0;34m.\u001b[0m\u001b[0mdtype\u001b[0m\u001b[0;34m,\u001b[0m \u001b[0marr\u001b[0m\u001b[0;34m.\u001b[0m\u001b[0mdtype\u001b[0m\u001b[0;34m)\u001b[0m\u001b[0;34m\u001b[0m\u001b[0;34m\u001b[0m\u001b[0m\n\u001b[1;32m   2156\u001b[0m             \u001b[0;32mand\u001b[0m \u001b[0musing_copy_on_write\u001b[0m\u001b[0;34m(\u001b[0m\u001b[0;34m)\u001b[0m\u001b[0;34m\u001b[0m\u001b[0;34m\u001b[0m\u001b[0m\n",
      "\u001b[0;31mValueError\u001b[0m: could not convert string to float: '73.6%'"
     ]
    }
   ],
   "source": [
    "# Create the target variable 'Evasao' (same as in the first code snippet)\n",
    "data['Evasao'] = data['Motivo da Evasão'].apply(lambda x: 1 if x != '0' else 0)\n",
    "\n",
    "# Convert categorical columns to numeric\n",
    "data['Gênero_Masculino'] = data['Gênero'].map({'Masculino': 1, 'Feminino': 0})\n",
    "data['Localização_Urbana'] = data['Localização'].map({'Urbana': 1, 'Rural': 0})\n",
    "data['Participação em Atividades Extracurriculares_Sim'] = data['Participação em Atividades Extracurriculares'].map({'Sim': 1, 'Não': 0})\n",
    "\n",
    "# Define features (X) and target (y)\n",
    "X = data[['Idade', 'Série', 'Média de Notas', 'Frequência', 'Participação em Atividades Extracurriculares_Sim',\n",
    "          'Renda Familiar', 'Gênero_Masculino', 'Localização_Urbana']]\n",
    "y = data['Evasao']  # Now 'Evasao' column exists\n",
    "\n",
    "# Split the dataset\n",
    "X_train, X_test, y_train, y_test = train_test_split(X, y, test_size=0.3, random_state=42)\n",
    "\n",
    "# Calculate weights for reweighting\n",
    "# In this example, assume Gênero_Masculino is the sensitive attribute for weighting\n",
    "sensitive_feature = 'Gênero_Masculino'\n",
    "group_counts = X_train[sensitive_feature].value_counts()\n",
    "total_samples = len(X_train)\n",
    "\n",
    "# Compute weights inversely proportional to group size\n",
    "group_weights = {group: total_samples / count for group, count in group_counts.items()}\n",
    "\n",
    "# Assign weights to each sample based on the sensitive feature\n",
    "weights = X_train[sensitive_feature].map(group_weights)\n",
    "\n",
    "# Train a Decision Tree using sample weights\n",
    "model = DecisionTreeClassifier(random_state=42)\n",
    "model.fit(X_train, y_train, sample_weight=weights)\n",
    "\n",
    "# Predictions and evaluation\n",
    "y_pred = model.predict(X_test)\n",
    "accuracy = accuracy_score(y_test, y_pred)\n",
    "conf_matrix = confusion_matrix(y_test, y_pred)\n",
    "\n",
    "# Print results\n",
    "print(f\"Model Accuracy after Reweighting: {accuracy:.2f}\")\n",
    "print(\"Confusion Matrix after Reweighting:\")\n",
    "print(conf_matrix)\n"
   ]
  },
  {
   "cell_type": "code",
   "execution_count": null,
   "id": "3440b075-f6f8-40ea-91c9-cdf5a1b606fe",
   "metadata": {},
   "outputs": [],
   "source": []
  }
 ],
 "metadata": {
  "kernelspec": {
   "display_name": "Python 3 (ipykernel)",
   "language": "python",
   "name": "python3"
  },
  "language_info": {
   "codemirror_mode": {
    "name": "ipython",
    "version": 3
   },
   "file_extension": ".py",
   "mimetype": "text/x-python",
   "name": "python",
   "nbconvert_exporter": "python",
   "pygments_lexer": "ipython3",
   "version": "3.10.12"
  }
 },
 "nbformat": 4,
 "nbformat_minor": 5
}
