{
 "cells": [
  {
   "cell_type": "code",
   "execution_count": 14,
   "id": "af9ab1d8-ecaa-4b20-a8ab-d912dcf7297a",
   "metadata": {},
   "outputs": [],
   "source": [
    "import pandas as pd\n",
    "import numpy as np\n",
    "import random"
   ]
  },
  {
   "cell_type": "code",
   "execution_count": 16,
   "id": "597932c9-ff0a-494e-a3a0-5b14b9802e90",
   "metadata": {},
   "outputs": [
    {
     "data": {
      "text/plain": [
       "'dados_evasao.csv'"
      ]
     },
     "execution_count": 16,
     "metadata": {},
     "output_type": "execute_result"
    }
   ],
   "source": [
    "# Definindo os valores possíveis para cada variável\n",
    "idades = [14, 15, 16, 17, 18, 19]\n",
    "generos = ['Feminino', 'Masculino']\n",
    "series = [1, 2, 3]\n",
    "participacao_extracurriculares = ['Sim', 'Não']\n",
    "motivos_evasao = ['0', 'Falta de Apoio Familiar', 'Falta de Apoio Escolar', 'Falta de Interesse', 'Outros', \n",
    "                  'Problemas de Saúde', 'Problemas Financeiros', 'Problemas Familiares']\n",
    "localizacoes = ['Urbana', 'Rural']\n",
    "\n",
    "# Geração de dados\n",
    "dados = []\n",
    "\n",
    "# Garantir que 800 registros tenham o motivo da evasão igual a '0'\n",
    "for _ in range(18000):\n",
    "    dados.append({\n",
    "        'Idade': random.choice(idades),\n",
    "        'Gênero': random.choice(generos),\n",
    "        'Série': random.choice(series),\n",
    "        'Média de Notas': round(random.uniform(0, 10), 2),\n",
    "        'Frequência': round(random.uniform(0, 100), 2),\n",
    "        'Participação em Atividades Extracurriculares': random.choice(participacao_extracurriculares),\n",
    "        'Motivo da Evasão': '0',\n",
    "        'Renda Familiar': round(random.uniform(800, 5000), 2),\n",
    "        'Localização': random.choice(localizacoes)\n",
    "    })\n",
    "\n",
    "# Gerar os 200 restantes com motivos de evasão diferentes de '0'\n",
    "for _ in range(12000):\n",
    "    dados.append({\n",
    "        'Idade': random.choice(idades),\n",
    "        'Gênero': random.choice(generos),\n",
    "        'Série': random.choice(series),\n",
    "        'Média de Notas': round(random.uniform(0, 10), 2),\n",
    "        'Frequência': round(random.uniform(0, 100), 2),\n",
    "        'Participação em Atividades Extracurriculares': random.choice(participacao_extracurriculares),\n",
    "        'Motivo da Evasão': random.choice(motivos_evasao[1:]),  # Escolher motivos que não sejam '0'\n",
    "        'Renda Familiar': round(random.uniform(800, 5000), 2),\n",
    "        'Localização': random.choice(localizacoes)\n",
    "    })\n",
    "\n",
    "# Criar DataFrame\n",
    "df = pd.DataFrame(dados)\n",
    "\n",
    "# Salvar em arquivo .csv\n",
    "file_path = 'dados_evasao.csv'\n",
    "df.to_csv(file_path, index=False)\n",
    "\n",
    "file_path\n"
   ]
  },
  {
   "cell_type": "code",
   "execution_count": null,
   "id": "2388e44e-9229-4cfc-bb44-d52f486202b5",
   "metadata": {},
   "outputs": [],
   "source": []
  },
  {
   "cell_type": "code",
   "execution_count": null,
   "id": "6a820630-29db-4342-a577-4b300565fca0",
   "metadata": {},
   "outputs": [],
   "source": []
  }
 ],
 "metadata": {
  "kernelspec": {
   "display_name": "Python 3 (ipykernel)",
   "language": "python",
   "name": "python3"
  },
  "language_info": {
   "codemirror_mode": {
    "name": "ipython",
    "version": 3
   },
   "file_extension": ".py",
   "mimetype": "text/x-python",
   "name": "python",
   "nbconvert_exporter": "python",
   "pygments_lexer": "ipython3",
   "version": "3.10.12"
  }
 },
 "nbformat": 4,
 "nbformat_minor": 5
}
