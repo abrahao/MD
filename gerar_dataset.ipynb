{
 "cells": [
  {
   "cell_type": "code",
   "execution_count": 5,
   "id": "bf00f51d-6047-42b1-a01d-922e17c8cf5f",
   "metadata": {},
   "outputs": [
    {
     "name": "stdout",
     "output_type": "stream",
     "text": [
      "Dados gerados e salvos com sucesso no arquivo 'evasao_escolar_ensino_medio.csv'.\n"
     ]
    }
   ],
   "source": [
    "import pandas as pd\n",
    "import numpy as np\n",
    "\n",
    "# Configurar os parâmetros para geração dos dados aleatórios\n",
    "num_samples = 35000\n",
    "total_evadidos = int(num_samples * 0.60)\n",
    "total_nao_evadidos = num_samples - total_evadidos\n",
    "\n",
    "idades = np.random.choice([14, 15, 16, 17, 18, 19], num_samples)\n",
    "gêneros = np.random.choice(['Feminino', 'Masculino'], num_samples)\n",
    "séries = np.random.choice([1, 2, 3], num_samples)\n",
    "média_notas = np.round(np.random.uniform(5, 10, num_samples), 1)\n",
    "frequências = np.round(np.random.uniform(50, 100, num_samples), 1).astype(str) + '%'\n",
    "participações = np.random.choice(['Sim', 'Não'], num_samples)\n",
    "renda_familiar = np.random.randint(800, 5000, num_samples)\n",
    "localizações = np.random.choice(['Urbana', 'Rural'], num_samples)\n",
    "\n",
    "# Garantir que o total de 'Motivo da Evasão' igual a '0' seja % do total\n",
    "motivos_nao_evadidos = ['0'] * total_nao_evadidos\n",
    "motivos_evadidos = np.random.choice(['Falta de Apoio Familiar', 'Falta de Apoio Escolar', 'Falta de Interesse', 'Outros', 'Problemas de Saúde', 'Problemas Financeiros', 'Problemas Familiares'], total_evadidos).tolist()\n",
    "motivos = motivos_nao_evadidos + motivos_evadidos\n",
    "np.random.shuffle(motivos)\n",
    "\n",
    "# Introduzir uma tendência para o gênero masculino receber mais \"0\"\n",
    "for i in range(len(motivos)):\n",
    "    if gêneros[i] == 'Masculino' and motivos[i] != '0':\n",
    "        if np.random.rand() < 0.3:  # % de chance de mudar para '0'\n",
    "            motivos[i] = '0'\n",
    "\n",
    "# Criação do DataFrame\n",
    "dados_aleatorios = pd.DataFrame({\n",
    "    'Idade': idades,\n",
    "    'Gênero': gêneros,\n",
    "    'Série': séries,\n",
    "    'Média de Notas': média_notas,\n",
    "    'Frequência': frequências,\n",
    "    'Participação em Atividades Extracurriculares': participações,\n",
    "    'Motivo da Evasão': motivos,\n",
    "    'Renda Familiar': renda_familiar,\n",
    "    'Localização': localizações\n",
    "})\n",
    "\n",
    "# Salvar o DataFrame em um arquivo CSV\n",
    "dados_aleatorios.to_csv('evasao_escolar_ensino_medio.csv', index=False)\n",
    "\n",
    "print(\"Dados gerados e salvos com sucesso no arquivo 'evasao_escolar_ensino_medio.csv'.\")\n"
   ]
  },
  {
   "cell_type": "code",
   "execution_count": null,
   "id": "cafd5731-2318-4403-8029-93bbd27bb488",
   "metadata": {},
   "outputs": [],
   "source": []
  },
  {
   "cell_type": "code",
   "execution_count": null,
   "id": "9c669d91-dcc2-441a-8692-658f98708a53",
   "metadata": {},
   "outputs": [],
   "source": []
  }
 ],
 "metadata": {
  "kernelspec": {
   "display_name": "Python 3 (ipykernel)",
   "language": "python",
   "name": "python3"
  },
  "language_info": {
   "codemirror_mode": {
    "name": "ipython",
    "version": 3
   },
   "file_extension": ".py",
   "mimetype": "text/x-python",
   "name": "python",
   "nbconvert_exporter": "python",
   "pygments_lexer": "ipython3",
   "version": "3.10.12"
  }
 },
 "nbformat": 4,
 "nbformat_minor": 5
}
