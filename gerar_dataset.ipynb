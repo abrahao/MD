{
 "cells": [
  {
   "cell_type": "code",
   "execution_count": 23,
   "id": "bf00f51d-6047-42b1-a01d-922e17c8cf5f",
   "metadata": {},
   "outputs": [
    {
     "ename": "TypeError",
     "evalue": "create_binary_variable() got an unexpected keyword argument 'tendency_for_male'",
     "output_type": "error",
     "traceback": [
      "\u001b[0;31m---------------------------------------------------------------------------\u001b[0m",
      "\u001b[0;31mTypeError\u001b[0m                                 Traceback (most recent call last)",
      "Cell \u001b[0;32mIn[23], line 32\u001b[0m\n\u001b[1;32m     26\u001b[0m num_samples \u001b[38;5;241m=\u001b[39m \u001b[38;5;241m30010\u001b[39m\n\u001b[1;32m     29\u001b[0m \u001b[38;5;66;03m# Criar o dataset com tendência para o gênero masculino\u001b[39;00m\n\u001b[1;32m     30\u001b[0m data \u001b[38;5;241m=\u001b[39m pd\u001b[38;5;241m.\u001b[39mDataFrame({\n\u001b[1;32m     31\u001b[0m     \u001b[38;5;124m'\u001b[39m\u001b[38;5;124mIdade_Maior_Que_16\u001b[39m\u001b[38;5;124m'\u001b[39m: create_binary_variable(num_samples),\n\u001b[0;32m---> 32\u001b[0m     \u001b[38;5;124m'\u001b[39m\u001b[38;5;124mGenero_Feminino\u001b[39m\u001b[38;5;124m'\u001b[39m: \u001b[43mcreate_binary_variable\u001b[49m\u001b[43m(\u001b[49m\u001b[43mnum_samples\u001b[49m\u001b[43m,\u001b[49m\u001b[43m \u001b[49m\u001b[43mtendency_for_male\u001b[49m\u001b[38;5;241;43m=\u001b[39;49m\u001b[38;5;28;43;01mTrue\u001b[39;49;00m\u001b[43m)\u001b[49m,\n\u001b[1;32m     33\u001b[0m     \u001b[38;5;124m'\u001b[39m\u001b[38;5;124mEtnia_Minorizada\u001b[39m\u001b[38;5;124m'\u001b[39m: create_binary_variable(num_samples),\n\u001b[1;32m     34\u001b[0m     \u001b[38;5;124m'\u001b[39m\u001b[38;5;124mZona_Rural\u001b[39m\u001b[38;5;124m'\u001b[39m: create_binary_variable(num_samples),\n\u001b[1;32m     35\u001b[0m     \u001b[38;5;124m'\u001b[39m\u001b[38;5;124mRenda_Baixa\u001b[39m\u001b[38;5;124m'\u001b[39m: create_binary_variable(num_samples),\n\u001b[1;32m     36\u001b[0m     \u001b[38;5;124m'\u001b[39m\u001b[38;5;124mBaixo_Desempenho_Escolar\u001b[39m\u001b[38;5;124m'\u001b[39m: create_binary_variable(num_samples),\n\u001b[1;32m     37\u001b[0m     \u001b[38;5;124m'\u001b[39m\u001b[38;5;124mAlta_Frequencia_Faltas\u001b[39m\u001b[38;5;124m'\u001b[39m: create_binary_variable(num_samples),\n\u001b[1;32m     38\u001b[0m     \u001b[38;5;124m'\u001b[39m\u001b[38;5;124mParticipa_Atividades_Extracurriculares\u001b[39m\u001b[38;5;124m'\u001b[39m: create_binary_variable(num_samples),\n\u001b[1;32m     39\u001b[0m     \u001b[38;5;124m'\u001b[39m\u001b[38;5;124mEscola_Baixa_Qualidade\u001b[39m\u001b[38;5;124m'\u001b[39m: create_binary_variable(num_samples),\n\u001b[1;32m     40\u001b[0m     \u001b[38;5;124m'\u001b[39m\u001b[38;5;124mDistancia_Longa_Escola\u001b[39m\u001b[38;5;124m'\u001b[39m: create_binary_variable(num_samples),\n\u001b[1;32m     41\u001b[0m     \u001b[38;5;124m'\u001b[39m\u001b[38;5;124mTurmas_Superlotadas\u001b[39m\u001b[38;5;124m'\u001b[39m: create_binary_variable(num_samples),\n\u001b[1;32m     42\u001b[0m })\n\u001b[1;32m     44\u001b[0m \u001b[38;5;66;03m# Ajustar a variável de evasão para ter exatamente % de evadidos\u001b[39;00m\n\u001b[1;32m     45\u001b[0m data[\u001b[38;5;124m'\u001b[39m\u001b[38;5;124mEvasao\u001b[39m\u001b[38;5;124m'\u001b[39m] \u001b[38;5;241m=\u001b[39m np\u001b[38;5;241m.\u001b[39mzeros(num_samples, dtype\u001b[38;5;241m=\u001b[39m\u001b[38;5;28mint\u001b[39m)\n",
      "\u001b[0;31mTypeError\u001b[0m: create_binary_variable() got an unexpected keyword argument 'tendency_for_male'"
     ]
    }
   ],
   "source": [
    "import pandas as pd\n",
    "import numpy as np\n",
    "\n",
    "import numpy as np\n",
    "\n",
    "def create_binary_variable(size, prob=0.1, bias_towards_male=False):\n",
    "    \"\"\"\n",
    "    Cria uma variável binária aleatória com tendência para um dos gêneros.\n",
    "\n",
    "    Parameters:\n",
    "    - size (int): O número de amostras a serem geradas.\n",
    "    - prob (float): A probabilidade de obter 1 (caso contrário, 0).\n",
    "    - bias_towards_male (bool): Se True, aplica uma tendência para o gênero masculino.\n",
    "\n",
    "    Returns:\n",
    "    - np.ndarray: Um array de variáveis binárias.\n",
    "    \"\"\"\n",
    "    if bias_towards_male:\n",
    "        # Tendência para masculino\n",
    "        return np.random.choice([0, 1], size=size, p=[0.45, 0.55])  # 55% chance de 1 para homens\n",
    "    else:\n",
    "        # Sem tendência específica\n",
    "        return np.random.choice([0, 1], size=size, p=[1 - prob, prob])\n",
    "\n",
    "# Configurar o número de amostras\n",
    "num_samples = 30010\n",
    "\n",
    "\n",
    "# Criar o dataset com tendência para o gênero masculino\n",
    "data = pd.DataFrame({\n",
    "    'Idade_Maior_Que_16': create_binary_variable(num_samples),\n",
    "    'Genero_Feminino': create_binary_variable(num_samples, tendency_for_male=True),\n",
    "    'Etnia_Minorizada': create_binary_variable(num_samples),\n",
    "    'Zona_Rural': create_binary_variable(num_samples),\n",
    "    'Renda_Baixa': create_binary_variable(num_samples),\n",
    "    'Baixo_Desempenho_Escolar': create_binary_variable(num_samples),\n",
    "    'Alta_Frequencia_Faltas': create_binary_variable(num_samples),\n",
    "    'Participa_Atividades_Extracurriculares': create_binary_variable(num_samples),\n",
    "    'Escola_Baixa_Qualidade': create_binary_variable(num_samples),\n",
    "    'Distancia_Longa_Escola': create_binary_variable(num_samples),\n",
    "    'Turmas_Superlotadas': create_binary_variable(num_samples),\n",
    "})\n",
    "\n",
    "# Ajustar a variável de evasão para ter exatamente % de evadidos\n",
    "data['Evasao'] = np.zeros(num_samples, dtype=int)\n",
    "num_evasao = int(num_samples * 0.15)\n",
    "evadidos_indices = np.random.choice(data.index, size=num_evasao, replace=False)\n",
    "data.loc[evadidos_indices, 'Evasao'] = 1\n",
    "\n",
    "# Salvar o dataset em um arquivo CSV\n",
    "data.to_csv('evasao_escolar_dataset.csv', index=False)\n",
    "\n",
    "print(\"Dataset criado e salvo como 'evasao_escolar_dataset.csv'.\")\n",
    "\n",
    "# Criar dicionário do dataset\n",
    "dataset_dict = {\n",
    "    'Idade_Maior_Que_16': 'Estudante tem idade maior que 16 anos (0: Não, 1: Sim)',\n",
    "    'Genero_Feminino': 'Estudante é do gênero feminino (0: Não, 1: Sim)',\n",
    "    'Etnia_Minorizada': 'Estudante pertence a uma etnia minorizada (0: Não, 1: Sim)',\n",
    "    'Zona_Rural': 'Estudante reside em zona rural (0: Não, 1: Sim)',\n",
    "    'Renda_Baixa': 'Família do estudante tem baixa renda (0: Não, 1: Sim)',\n",
    "    'Baixo_Desempenho_Escolar': 'Estudante tem baixo desempenho escolar (0: Não, 1: Sim)',\n",
    "    'Alta_Frequencia_Faltas': 'Estudante tem alta frequência de faltas (0: Não, 1: Sim)',\n",
    "    'Participa_Atividades_Extracurriculares': 'Estudante participa de atividades extracurriculares (0: Não, 1: Sim)',\n",
    "    'Escola_Baixa_Qualidade': 'Escola do estudante é de baixa qualidade (0: Não, 1: Sim)',\n",
    "    'Distancia_Longa_Escola': 'Estudante reside longe da escola (0: Não, 1: Sim)',\n",
    "    'Turmas_Superlotadas': 'Estudante estuda em turmas superlotadas (0: Não, 1: Sim)',\n",
    "    'Evasao': 'Estudante evadiu (0: Não, 1: Sim)'\n",
    "}\n",
    "\n",
    "print(\"\\nDicionário do Dataset:\")\n",
    "for key, value in dataset_dict.items():\n",
    "    print(f\"{key}: {value}\")\n"
   ]
  },
  {
   "cell_type": "code",
   "execution_count": null,
   "id": "f48a584c-c4da-4571-b88b-523840672ecb",
   "metadata": {},
   "outputs": [],
   "source": []
  },
  {
   "cell_type": "code",
   "execution_count": null,
   "id": "456de979-d3cf-406c-bb62-4fcea372c9f0",
   "metadata": {},
   "outputs": [],
   "source": []
  }
 ],
 "metadata": {
  "kernelspec": {
   "display_name": "Python 3 (ipykernel)",
   "language": "python",
   "name": "python3"
  },
  "language_info": {
   "codemirror_mode": {
    "name": "ipython",
    "version": 3
   },
   "file_extension": ".py",
   "mimetype": "text/x-python",
   "name": "python",
   "nbconvert_exporter": "python",
   "pygments_lexer": "ipython3",
   "version": "3.10.12"
  }
 },
 "nbformat": 4,
 "nbformat_minor": 5
}
