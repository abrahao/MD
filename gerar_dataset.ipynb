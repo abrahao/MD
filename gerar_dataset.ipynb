{
 "cells": [
  {
   "cell_type": "code",
   "execution_count": 8,
   "id": "bf00f51d-6047-42b1-a01d-922e17c8cf5f",
   "metadata": {},
   "outputs": [
    {
     "name": "stdout",
     "output_type": "stream",
     "text": [
      "Dados gerados e salvos com sucesso no arquivo 'evasao_escolar_ensino_medio.csv'.\n"
     ]
    }
   ],
   "source": [
    "import pandas as pd\n",
    "import numpy as np\n",
    "\n",
    "# Configurar os parâmetros para geração dos dados aleatórios\n",
    "num_samples = 0000\n",
    "total_evadidos = int(num_samples * 0.65)\n",
    "total_nao_evadidos = num_samples - total_evadidos\n",
    "\n",
    "idades = np.random.choice([14, 15, 16, 17, 18, 19], num_samples)\n",
    "gêneros = np.random.choice([0, 1], num_samples)  # 0 para Feminino e 1 para Masculino\n",
    "séries = np.random.choice([1, 2, 3], num_samples)\n",
    "média_notas = np.round(np.random.uniform(5, 10, num_samples), 1)\n",
    "frequências = np.round(np.random.uniform(50, 100, num_samples), 1)\n",
    "participações = np.random.choice([0, 1], num_samples)  # 0 para Não e 1 para Sim\n",
    "renda_familiar = np.random.randint(800, 5000, num_samples)\n",
    "localizações = np.random.choice([0, 1], num_samples)  # 0 para Rural e 1 para Urbana\n",
    "\n",
    "# Criar lista de motivos para evadidos e não evadidos\n",
    "motivos_nao_evadidos = ['0'] * total_nao_evadidos\n",
    "motivos_evadidos = np.random.choice(\n",
    "    ['Falta de Apoio Familiar', 'Falta de Apoio Escolar', 'Falta de Interesse', \n",
    "     'Outros', 'Problemas de Saúde', 'Problemas Financeiros', 'Problemas Familiares'], \n",
    "    total_evadidos\n",
    ").tolist()\n",
    "motivos = motivos_nao_evadidos + motivos_evadidos\n",
    "np.random.shuffle(motivos)\n",
    "\n",
    "# Introduzir uma tendência para o gênero masculino receber mais \"0\"\n",
    "for i in range(len(motivos)):\n",
    "    if gêneros[i] == 1 and motivos[i] != '0':  # Ajustado para gênero \"1\" (Masculino)\n",
    "        if np.random.rand() < 0.08:  # % de chance de mudar para '0'\n",
    "            motivos[i] = '0'\n",
    "\n",
    "# Transformar em variável categórica\n",
    "motivos_categoricos = pd.Categorical(motivos, categories=[\n",
    "    '0', 'Falta de Apoio Familiar', 'Falta de Apoio Escolar', 'Falta de Interesse', \n",
    "    'Outros', 'Problemas de Saúde', 'Problemas Financeiros', 'Problemas Familiares'\n",
    "])\n",
    "\n",
    "# Criar variável categórica binária\n",
    "evasao = np.where(motivos_categoricos == '0', 0, 1)\n",
    "\n",
    "# Criação do DataFrame sem a coluna de Motivo da Evasão\n",
    "dados_aleatorios = pd.DataFrame({\n",
    "    'Idade': idades,\n",
    "    'Gênero': gêneros,\n",
    "    'Série': séries,\n",
    "    'Média de Notas': média_notas,\n",
    "    'Frequência': frequências,\n",
    "    'Participação em Atividades Extracurriculares': participações,\n",
    "    'Evasão': evasao,  # Nova coluna binária\n",
    "    'Renda Familiar': renda_familiar,\n",
    "    'Localização': localizações  # Já como 0 (Rural) e 1 (Urbana)\n",
    "})\n",
    "\n",
    "# Salvar o DataFrame em um arquivo CSV\n",
    "dados_aleatorios.to_csv('evasao_escolar_ensino_medio.csv', index=False)\n",
    "\n",
    "print(\"Dados gerados e salvos com sucesso no arquivo 'evasao_escolar_ensino_medio.csv'.\")\n"
   ]
  }
 ],
 "metadata": {
  "kernelspec": {
   "display_name": "Python 3 (ipykernel)",
   "language": "python",
   "name": "python3"
  },
  "language_info": {
   "codemirror_mode": {
    "name": "ipython",
    "version": 3
   },
   "file_extension": ".py",
   "mimetype": "text/x-python",
   "name": "python",
   "nbconvert_exporter": "python",
   "pygments_lexer": "ipython3",
   "version": "3.10.12"
  }
 },
 "nbformat": 4,
 "nbformat_minor": 5
}
