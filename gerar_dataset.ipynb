{
 "cells": [
  {
   "cell_type": "code",
   "execution_count": 32,
   "id": "bf00f51d-6047-42b1-a01d-922e17c8cf5f",
   "metadata": {},
   "outputs": [
    {
     "name": "stdout",
     "output_type": "stream",
     "text": [
      "Dataset criado e salvo como 'evasao_escolar_dataset.csv'.\n",
      "\n",
      "Dicionário do Dataset:\n",
      "Idade_Maior_Que_16: Estudante tem idade maior que 16 anos (0: Não, 1: Sim)\n",
      "Genero_Feminino: Estudante é do gênero feminino (0: Não, 1: Sim)\n",
      "Etnia_Minorizada: Estudante pertence a uma etnia minorizada (0: Não, 1: Sim)\n",
      "Zona_Rural: Estudante reside em zona rural (0: Não, 1: Sim)\n",
      "Renda_Baixa: Família do estudante tem baixa renda (0: Não, 1: Sim)\n",
      "Baixo_Desempenho_Escolar: Estudante tem baixo desempenho escolar (0: Não, 1: Sim)\n",
      "Participa_Atividades_Extracurriculares: Estudante participa de atividades extracurriculares (0: Não, 1: Sim)\n",
      "Distancia_Longa_Escola: Estudante reside longe da escola (0: Não, 1: Sim)\n",
      "Evasao: Estudante evadiu (0: Não, 1: Sim)\n"
     ]
    }
   ],
   "source": [
    "import pandas as pd\n",
    "import numpy as np\n",
    "\n",
    "def create_binary_variable(size, prob=0.1):\n",
    "    \"\"\"\n",
    "    Cria uma variável binária aleatória.\n",
    "\n",
    "    Parameters:\n",
    "    - size (int): O número de amostras a serem geradas.\n",
    "    - prob (float): A probabilidade de obter 1 (caso contrário, 0).\n",
    "\n",
    "    Returns:\n",
    "    - np.ndarray: Um array de variáveis binárias.\n",
    "    \"\"\"\n",
    "    return np.random.choice([0, 1], size=size, p=[1 - prob, prob])\n",
    "\n",
    "# Configurar o número de amostras\n",
    "num_samples = 30001\n",
    "\n",
    "# Criar o dataset com 5% de tendência para o gênero feminino\n",
    "data = pd.DataFrame({\n",
    "    'Idade_Maior_Que_16': create_binary_variable(num_samples),\n",
    "    'Genero_Feminino': create_binary_variable(num_samples, prob=0.55),  # 55% de chance de 1 para feminino\n",
    "    'Etnia_Minorizada': create_binary_variable(num_samples),\n",
    "    'Zona_Rural': create_binary_variable(num_samples),\n",
    "    'Renda_Baixa': create_binary_variable(num_samples),\n",
    "    'Baixo_Desempenho_Escolar': create_binary_variable(num_samples),\n",
    "    'Participa_Atividades_Extracurriculares': create_binary_variable(num_samples),\n",
    "    'Distancia_Longa_Escola': create_binary_variable(num_samples),\n",
    "})\n",
    "\n",
    "# Ajustar a variável de evasão para ter exatamente % de evadidos\n",
    "data['Evasao'] = np.zeros(num_samples, dtype=int)\n",
    "num_evasao = int(num_samples * 0.15)  # 15% de evasão\n",
    "evadidos_indices = np.random.choice(data.index, size=num_evasao, replace=False)\n",
    "data.loc[evadidos_indices, 'Evasao'] = 1\n",
    "\n",
    "# Salvar o dataset em um arquivo CSV\n",
    "data.to_csv('evasao_escolar_dataset.csv', index=False)\n",
    "\n",
    "print(\"Dataset criado e salvo como 'evasao_escolar_dataset.csv'.\")\n",
    "\n",
    "# Criar dicionário do dataset\n",
    "dataset_dict = {\n",
    "    'Idade_Maior_Que_16': 'Estudante tem idade maior que 16 anos (0: Não, 1: Sim)',\n",
    "    'Genero_Feminino': 'Estudante é do gênero feminino (0: Não, 1: Sim)',\n",
    "    'Etnia_Minorizada': 'Estudante pertence a uma etnia minorizada (0: Não, 1: Sim)',\n",
    "    'Zona_Rural': 'Estudante reside em zona rural (0: Não, 1: Sim)',\n",
    "    'Renda_Baixa': 'Família do estudante tem baixa renda (0: Não, 1: Sim)',\n",
    "    'Baixo_Desempenho_Escolar': 'Estudante tem baixo desempenho escolar (0: Não, 1: Sim)',\n",
    "    'Participa_Atividades_Extracurriculares': 'Estudante participa de atividades extracurriculares (0: Não, 1: Sim)',\n",
    "    'Distancia_Longa_Escola': 'Estudante reside longe da escola (0: Não, 1: Sim)',\n",
    "    'Evasao': 'Estudante evadiu (0: Não, 1: Sim)'\n",
    "}\n",
    "\n",
    "print(\"\\nDicionário do Dataset:\")\n",
    "for key, value in dataset_dict.items():\n",
    "    print(f\"{key}: {value}\")\n"
   ]
  },
  {
   "cell_type": "code",
   "execution_count": null,
   "id": "f48a584c-c4da-4571-b88b-523840672ecb",
   "metadata": {},
   "outputs": [],
   "source": []
  },
  {
   "cell_type": "code",
   "execution_count": null,
   "id": "456de979-d3cf-406c-bb62-4fcea372c9f0",
   "metadata": {},
   "outputs": [],
   "source": []
  }
 ],
 "metadata": {
  "kernelspec": {
   "display_name": "Python 3 (ipykernel)",
   "language": "python",
   "name": "python3"
  },
  "language_info": {
   "codemirror_mode": {
    "name": "ipython",
    "version": 3
   },
   "file_extension": ".py",
   "mimetype": "text/x-python",
   "name": "python",
   "nbconvert_exporter": "python",
   "pygments_lexer": "ipython3",
   "version": "3.10.12"
  }
 },
 "nbformat": 4,
 "nbformat_minor": 5
}
