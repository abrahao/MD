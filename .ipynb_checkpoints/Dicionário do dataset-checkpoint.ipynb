{
 "cells": [
  {
   "cell_type": "code",
   "execution_count": 17,
   "id": "bdb225b4-f19b-4644-b9cb-8ec694bcdf0a",
   "metadata": {},
   "outputs": [],
   "source": [
    "data = pd.read_csv('https://raw.githubusercontent.com/abrahao/MD/main/evasao_escolar_ensino_medio.csv')"
   ]
  },
  {
   "cell_type": "code",
   "execution_count": 1,
   "id": "8205c8ed-8ac1-4909-997c-353a7010f476",
   "metadata": {},
   "outputs": [
    {
     "name": "stdout",
     "output_type": "stream",
     "text": [
      "Idade:\n",
      "  Tipo: int\n",
      "  Descrição: Idade dos alunos, variando de 14 a 19 anos.\n",
      "\n",
      "Gênero:\n",
      "  Tipo: int\n",
      "  Descrição: Gênero dos alunos, onde 0 representa Feminino e 1 representa Masculino.\n",
      "\n",
      "Série:\n",
      "  Tipo: int\n",
      "  Descrição: Série escolar em que o aluno está matriculado (1, 2 ou 3).\n",
      "\n",
      "Média de Notas:\n",
      "  Tipo: float\n",
      "  Descrição: Média das notas dos alunos, variando de 5.0 a 10.0.\n",
      "\n",
      "Frequência:\n",
      "  Tipo: float\n",
      "  Descrição: Porcentagem de frequência dos alunos, variando de 50.0 a 100.0.\n",
      "\n",
      "Participação em Atividades Extracurriculares:\n",
      "  Tipo: int\n",
      "  Descrição: Indica se o aluno participa de atividades extracurriculares, onde 0 significa Não e 1 significa Sim.\n",
      "\n",
      "Evadiu:\n",
      "  Tipo: int\n",
      "  Descrição: Indica se o aluno evadiu da escola, onde 0 significa Não Evadiu e 1 significa Evadiu.\n",
      "\n",
      "Renda Familiar:\n",
      "  Tipo: int\n",
      "  Descrição: Renda familiar mensal dos alunos, variando de 800 a 5000.\n",
      "\n",
      "Localização:\n",
      "  Tipo: int\n",
      "  Descrição: Indica a localização do aluno, onde 0 representa Rural e 1 representa Urbana.\n",
      "\n",
      "Renda Binária:\n",
      "  Tipo: int\n",
      "  Descrição: Indica se a renda familiar é menor (0) ou maior/equal (1) a um salário mínimo de referência (R$ 1.500,00).\n",
      "\n"
     ]
    }
   ],
   "source": [
    "# Dicionário do dataset atualizado\n",
    "dataset_info = {\n",
    "    \"Idade\": {\n",
    "        \"tipo\": \"int\",\n",
    "        \"descrição\": \"Idade dos alunos, variando de 14 a 19 anos.\"\n",
    "    },\n",
    "    \"Gênero\": {\n",
    "        \"tipo\": \"int\",\n",
    "        \"descrição\": \"Gênero dos alunos, onde 0 representa Feminino e 1 representa Masculino.\"\n",
    "    },\n",
    "    \"Série\": {\n",
    "        \"tipo\": \"int\",\n",
    "        \"descrição\": \"Série escolar em que o aluno está matriculado (1, 2 ou 3).\"\n",
    "    },\n",
    "    \"Média de Notas\": {\n",
    "        \"tipo\": \"float\",\n",
    "        \"descrição\": \"Média das notas dos alunos, variando de 5.0 a 10.0.\"\n",
    "    },\n",
    "    \"Frequência\": {\n",
    "        \"tipo\": \"float\",\n",
    "        \"descrição\": \"Porcentagem de frequência dos alunos, variando de 50.0 a 100.0.\"\n",
    "    },\n",
    "    \"Participação em Atividades Extracurriculares\": {\n",
    "        \"tipo\": \"int\",\n",
    "        \"descrição\": \"Indica se o aluno participa de atividades extracurriculares, onde 0 significa Não e 1 significa Sim.\"\n",
    "    },\n",
    "    \"Evadiu\": {\n",
    "        \"tipo\": \"int\",\n",
    "        \"descrição\": \"Indica se o aluno evadiu da escola, onde 0 significa Não Evadiu e 1 significa Evadiu.\"\n",
    "    },\n",
    "    \"Renda Familiar\": {\n",
    "        \"tipo\": \"int\",\n",
    "        \"descrição\": \"Renda familiar mensal dos alunos, variando de 800 a 5000.\"\n",
    "    },\n",
    "    \"Localização\": {\n",
    "        \"tipo\": \"int\",\n",
    "        \"descrição\": \"Indica a localização do aluno, onde 0 representa Rural e 1 representa Urbana.\"\n",
    "    },\n",
    "    \"Renda Binária\": {\n",
    "        \"tipo\": \"int\",\n",
    "        \"descrição\": \"Indica se a renda familiar é menor (0) ou maior/equal (1) a um salário mínimo de referência (R$ 1.500,00).\"\n",
    "    }\n",
    "}\n",
    "\n",
    "# Exibindo o dicionário do dataset atualizado\n",
    "for coluna, info in dataset_info.items():\n",
    "    print(f\"{coluna}:\")\n",
    "    print(f\"  Tipo: {info['tipo']}\")\n",
    "    print(f\"  Descrição: {info['descrição']}\\n\")\n"
   ]
  },
  {
   "cell_type": "code",
   "execution_count": null,
   "id": "d3458ac3-efe9-4cb1-839d-bc0c15fed2f3",
   "metadata": {},
   "outputs": [],
   "source": []
  }
 ],
 "metadata": {
  "kernelspec": {
   "display_name": "Python 3 (ipykernel)",
   "language": "python",
   "name": "python3"
  },
  "language_info": {
   "codemirror_mode": {
    "name": "ipython",
    "version": 3
   },
   "file_extension": ".py",
   "mimetype": "text/x-python",
   "name": "python",
   "nbconvert_exporter": "python",
   "pygments_lexer": "ipython3",
   "version": "3.10.12"
  }
 },
 "nbformat": 4,
 "nbformat_minor": 5
}
